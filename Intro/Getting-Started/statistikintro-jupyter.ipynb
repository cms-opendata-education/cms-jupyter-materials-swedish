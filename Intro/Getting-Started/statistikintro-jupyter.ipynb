{
 "cells": [
  {
   "cell_type": "markdown",
   "metadata": {},
   "source": [
    "# Välkommen att använda Jupyter Notebooks!"
   ]
  },
  {
   "cell_type": "markdown",
   "metadata": {},
   "source": [
    "I denna notebook går vi genom ett exempel på dataanalys med Python, där vi skapar en graf över månadernas medeltemperaturer i Helsingfors 2020. Detta är avsett att vara ett kort exempel, som visar vad som är möjligt att göra med Jupyter Notebook och Python. Du kan också ta en titt på [detta exempel](https://mybinder.org/v2/gh/opendata-education/opendata-education.github.io/HEAD?filepath=examples%2Fdata-analyysi_esimerkki.ipynb), där du får handledning att börja skriva egen kod.\n",
    "\n",
    "Innan vi skrider till verket tar vi en titt på själva Jupyter Notebook-basen. En Notebookfil består av **celler**, som kan innehålla antingen text (markdown) eller kod. Detta är en textcell, och du kan ändra på den om du dubbelklickar den (Testa!). När cellen är öppnad i *edit mode* kan du köra den med **Run**-knappen i menyn ovan, eller med knappkombinationen **Ctrl + Enter**, så processeras texten.\n",
    "\n",
    "En kodcell körs på samma sätt. Du känner igen kodcellerna på `In [ ]:`-texten till vänster. När en kodcell har körts får den ett index/ordningstal."
   ]
  },
  {
   "cell_type": "code",
   "execution_count": 16,
   "metadata": {},
   "outputs": [],
   "source": [
    "# Detta är en kodcell\n",
    "# Den gör ingenting, för den innehåller ingen kod, men du kan köra den ändå."
   ]
  },
  {
   "cell_type": "markdown",
   "metadata": {},
   "source": [
    "Då går vi vidare till dataanalys-exemplet. Koden i exemplet är fullständig, så du kan köra kodcellerna som de är. Du kan också fritt koda själv eller ändra något i koden.\n",
    "\n",
    "Vi börjar med att så kortfattat som möjligt visualisera datan. Detta kräver bara fyra rader kod. Vi läser in två funktionspaket med **import**-kommandot, vi läser in en datafil i csv-format med **pd.read_csv**-kommandot, och ritar upp en graf med **plt.plot**\n",
    "\n",
    "Kör kodcellen nedan, till exempel genom att klicka på den och trycka **Ctrl + Enter**. Den borde ge en graf."
   ]
  },
  {
   "cell_type": "code",
   "execution_count": 2,
   "metadata": {},
   "outputs": [
    {
     "data": {
      "text/plain": [
       "[<matplotlib.lines.Line2D at 0x26c18762f70>]"
      ]
     },
     "execution_count": 2,
     "metadata": {},
     "output_type": "execute_result"
    },
    {
     "data": {
      "image/png": "[encoded data removed]",
      "text/plain": [
       "<Figure size 432x288 with 1 Axes>"
      ]
     },
     "metadata": {
      "needs_background": "light"
     },
     "output_type": "display_data"
    }
   ],
   "source": [
    "import matplotlib.pyplot as plt\n",
    "import pandas as pd\n",
    "\n",
    "data = pd.read_csv('keskilampotila2020_Helsinki.csv')\n",
    "plt.plot(data['Kk'], data['Keskilämpötila (°C)'])"
   ]
  },
  {
   "cell_type": "markdown",
   "metadata": {},
   "source": [
    "Det krävs alltså inte mycket för att få till en visualisering av datan. Grafen du nyss ritade berättar dock inte så mycket ännu. Vi tar ett exempel där vi förbättrar den.\n",
    "\n",
    "Du kan köra alla celler nedan i tur och ordning. Du kan gärna läsa koden och sträva efter att förstå alla element, och om du vill kan du ändra på den också. Raderna som börjar med **#** -tecken är *kommentarer* som inte påverkar själva koden, men hjälper för att förklara den."
   ]
  },
  {
   "cell_type": "code",
   "execution_count": 3,
   "metadata": {},
   "outputs": [
    {
     "data": {
      "text/html": [
       "<div>\n",
       "<style scoped>\n",
       "    .dataframe tbody tr th:only-of-type {\n",
       "        vertical-align: middle;\n",
       "    }\n",
       "\n",
       "    .dataframe tbody tr th {\n",
       "        vertical-align: top;\n",
       "    }\n",
       "\n",
       "    .dataframe thead th {\n",
       "        text-align: right;\n",
       "    }\n",
       "</style>\n",
       "<table border=\"1\" class=\"dataframe\">\n",
       "  <thead>\n",
       "    <tr style=\"text-align: right;\">\n",
       "      <th></th>\n",
       "      <th>Ar</th>\n",
       "      <th>Manad</th>\n",
       "      <th>Medeltemperatur (Celsius)</th>\n",
       "    </tr>\n",
       "  </thead>\n",
       "  <tbody>\n",
       "    <tr>\n",
       "      <th>0</th>\n",
       "      <td>2020</td>\n",
       "      <td>1</td>\n",
       "      <td>1.9</td>\n",
       "    </tr>\n",
       "    <tr>\n",
       "      <th>1</th>\n",
       "      <td>2020</td>\n",
       "      <td>2</td>\n",
       "      <td>0.5</td>\n",
       "    </tr>\n",
       "    <tr>\n",
       "      <th>2</th>\n",
       "      <td>2020</td>\n",
       "      <td>3</td>\n",
       "      <td>1.7</td>\n",
       "    </tr>\n",
       "    <tr>\n",
       "      <th>3</th>\n",
       "      <td>2020</td>\n",
       "      <td>4</td>\n",
       "      <td>4.5</td>\n",
       "    </tr>\n",
       "    <tr>\n",
       "      <th>4</th>\n",
       "      <td>2020</td>\n",
       "      <td>5</td>\n",
       "      <td>9.5</td>\n",
       "    </tr>\n",
       "  </tbody>\n",
       "</table>\n",
       "</div>"
      ],
      "text/plain": [
       "     Ar  Manad  Medeltemperatur (Celsius)\n",
       "0  2020      1                        1.9\n",
       "1  2020      2                        0.5\n",
       "2  2020      3                        1.7\n",
       "3  2020      4                        4.5\n",
       "4  2020      5                        9.5"
      ]
     },
     "execution_count": 3,
     "metadata": {},
     "output_type": "execute_result"
    }
   ],
   "source": [
    "# Vi läser in paketen som behövs\n",
    "import matplotlib.pyplot as plt\n",
    "import pandas as pd\n",
    "\n",
    "# Vi läser in data ur filen 'Medeltemperatur2020_Helsingfors.csv'\n",
    "# och sparar informationen som variabeln 'data'.\n",
    "data = pd.read_csv('Medeltemperatur2020_Helsingfors.csv')\n",
    "\n",
    "# Vi skriver ut en förhandsvisning av datan. .head-kommandot visar de första raderna av tabellen.\n",
    "data.head()"
   ]
  },
  {
   "cell_type": "code",
   "execution_count": 9,
   "metadata": {},
   "outputs": [
    {
     "data": {
      "image/png": "[encoded data removed]",
      "text/plain": [
       "<Figure size 432x288 with 1 Axes>"
      ]
     },
     "metadata": {
      "needs_background": "light"
     },
     "output_type": "display_data"
    }
   ],
   "source": [
    "# Vi väljer 'Manad'-kolumnen och 'Medeltemperatur (Celsius)'-kolumnen\n",
    "# och sparar dem som variablerna 'man' och 'temp'\n",
    "man = data['Manad']\n",
    "temp = data['Medeltemperatur (Celsius)']\n",
    "\n",
    "\n",
    "# Vi skapar en graf med månaderna på x-axeln och temperaturerna på y-axeln.\n",
    "# Vi kan justera grafens utseende: 'r-' betyder \"red line\" och 'o' betyder att punkterna märks med bollar. \n",
    "plt.plot(man, temp, 'r-', marker='o')\n",
    "\n",
    "# Vi namnger koordinataxlarna\n",
    "plt.xlabel('Månad')\n",
    "plt.ylabel('Temperatur (°C)')\n",
    "\n",
    "# Vi ger grafen en titel\n",
    "plt.title('Keskilämpötila Helsingissä kuukausittain 2020')\n",
    "\n",
    "# Vi gör en lista på markeringarna för x-axeln.\n",
    "markeringar = ['Januari','Februari','Mars','April','Maj','Juni','Juli','Augusti','September','Oktober','November','December']\n",
    "\n",
    "# Vi ska göra så att x-axeln har månadsnamn istället för en sifferskala.\n",
    "# range(1,13) skapar en lista med talen 1-12 eftersom python inte inkluderar \"the stop number\".\n",
    "# Sedan lägger vi till variabeln 'markeringar', som innehåller månadernas namn.\n",
    "#Slutligen vänder vi på markeringarna, så att de inte skrivs på varandra.\n",
    "plt.xticks(range(1,13), markeringar, rotation=60)\n",
    "\n",
    "# Vi sätter till ett rutsystem i bakgrunden \n",
    "plt.grid()\n",
    "\n",
    "# Vi avslutar med plt.show- kommandot som gör att grafen visas.\n",
    "plt.show()"
   ]
  },
  {
   "cell_type": "markdown",
   "metadata": {},
   "source": [
    "Det finns många möjligheter när det gäller att snygga till en graf, och vi kan inte gå genom alla här. Man behöver studera grafen och undersöka vad som behövs för att den ska bli tydligare. Med hjälp av google hittar man oftast rätt metoder bara man vet vad man vill göra.\n",
    "\n",
    "> Testa gärna att ändra något i koden ovan, kör cellen på nytt och se vad som händer. En praktisk sak med Jupyter Notebooks är att de är interaktiva, och du kan ändra vad som helst utan att det påverkar originalet. Om du vill spara dina ändringar kan du ladda ned din version av filen om du väljer **File** $\\rightarrow$ **Download as** $\\rightarrow$ **Notebook (.ipynb)**"
   ]
  },
  {
   "cell_type": "markdown",
   "metadata": {},
   "source": [
    "## Histogram"
   ]
  },
  {
   "cell_type": "markdown",
   "metadata": {},
   "source": [
    "Vi tar ett andra exempel på visualisering av data. Den här gången ska vi rita ett histogram utgående från uppmätta temperaturer i Helsingfors januari 2021. För detta ändamål har vi hämtat information från Meteorologiska Institutets söktjänst. Datan består av mätningar gjorda med 10 minuters mellanrum, så det finns massor av värden att behandla."
   ]
  },
  {
   "cell_type": "code",
   "execution_count": 10,
   "metadata": {},
   "outputs": [
    {
     "data": {
      "text/html": [
       "<div>\n",
       "<style scoped>\n",
       "    .dataframe tbody tr th:only-of-type {\n",
       "        vertical-align: middle;\n",
       "    }\n",
       "\n",
       "    .dataframe tbody tr th {\n",
       "        vertical-align: top;\n",
       "    }\n",
       "\n",
       "    .dataframe thead th {\n",
       "        text-align: right;\n",
       "    }\n",
       "</style>\n",
       "<table border=\"1\" class=\"dataframe\">\n",
       "  <thead>\n",
       "    <tr style=\"text-align: right;\">\n",
       "      <th></th>\n",
       "      <th>Vuosi</th>\n",
       "      <th>Kk</th>\n",
       "      <th>Pv</th>\n",
       "      <th>Klo</th>\n",
       "      <th>Aikavyöhyke</th>\n",
       "      <th>Sademäärä (mm)</th>\n",
       "      <th>Lumensyvyys (cm)</th>\n",
       "      <th>Ilman lämpötila (degC)</th>\n",
       "      <th>Tuulen nopeus (m/s)</th>\n",
       "    </tr>\n",
       "  </thead>\n",
       "  <tbody>\n",
       "    <tr>\n",
       "      <th>0</th>\n",
       "      <td>2021</td>\n",
       "      <td>1</td>\n",
       "      <td>1</td>\n",
       "      <td>00:00</td>\n",
       "      <td>UTC</td>\n",
       "      <td>0.0</td>\n",
       "      <td>0.0</td>\n",
       "      <td>0.4</td>\n",
       "      <td>1.7</td>\n",
       "    </tr>\n",
       "    <tr>\n",
       "      <th>1</th>\n",
       "      <td>2021</td>\n",
       "      <td>1</td>\n",
       "      <td>1</td>\n",
       "      <td>00:10</td>\n",
       "      <td>UTC</td>\n",
       "      <td>NaN</td>\n",
       "      <td>0.0</td>\n",
       "      <td>0.4</td>\n",
       "      <td>1.5</td>\n",
       "    </tr>\n",
       "    <tr>\n",
       "      <th>2</th>\n",
       "      <td>2021</td>\n",
       "      <td>1</td>\n",
       "      <td>1</td>\n",
       "      <td>00:20</td>\n",
       "      <td>UTC</td>\n",
       "      <td>NaN</td>\n",
       "      <td>0.0</td>\n",
       "      <td>0.4</td>\n",
       "      <td>1.1</td>\n",
       "    </tr>\n",
       "    <tr>\n",
       "      <th>3</th>\n",
       "      <td>2021</td>\n",
       "      <td>1</td>\n",
       "      <td>1</td>\n",
       "      <td>00:30</td>\n",
       "      <td>UTC</td>\n",
       "      <td>NaN</td>\n",
       "      <td>0.0</td>\n",
       "      <td>0.4</td>\n",
       "      <td>0.9</td>\n",
       "    </tr>\n",
       "    <tr>\n",
       "      <th>4</th>\n",
       "      <td>2021</td>\n",
       "      <td>1</td>\n",
       "      <td>1</td>\n",
       "      <td>00:40</td>\n",
       "      <td>UTC</td>\n",
       "      <td>NaN</td>\n",
       "      <td>0.0</td>\n",
       "      <td>0.5</td>\n",
       "      <td>1.1</td>\n",
       "    </tr>\n",
       "  </tbody>\n",
       "</table>\n",
       "</div>"
      ],
      "text/plain": [
       "   Vuosi  Kk  Pv    Klo Aikavyöhyke  Sademäärä (mm)  Lumensyvyys (cm)  \\\n",
       "0   2021   1   1  00:00         UTC             0.0               0.0   \n",
       "1   2021   1   1  00:10         UTC             NaN               0.0   \n",
       "2   2021   1   1  00:20         UTC             NaN               0.0   \n",
       "3   2021   1   1  00:30         UTC             NaN               0.0   \n",
       "4   2021   1   1  00:40         UTC             NaN               0.0   \n",
       "\n",
       "   Ilman lämpötila (degC)  Tuulen nopeus (m/s)  \n",
       "0                     0.4                  1.7  \n",
       "1                     0.4                  1.5  \n",
       "2                     0.4                  1.1  \n",
       "3                     0.4                  0.9  \n",
       "4                     0.5                  1.1  "
      ]
     },
     "execution_count": 10,
     "metadata": {},
     "output_type": "execute_result"
    }
   ],
   "source": [
    "# Vi läser in de paket som behövs\n",
    "import matplotlib.pyplot as plt\n",
    "import pandas as pd\n",
    "\n",
    "# Vi läser in data ur filen 'lampotila_tammikuu2021_Helsinki.csv'\n",
    "# och vi sparar informationen som variabeln 'data'.\n",
    "data = pd.read_csv('lampotila_tammikuu2021_Helsinki.csv')\n",
    "\n",
    "# Vi skriver ut de första raderna av tabellen, så att vi ser vad vi arbetar med.\n",
    "data.head()"
   ]
  },
  {
   "cell_type": "code",
   "execution_count": 11,
   "metadata": {},
   "outputs": [
    {
     "data": {
      "image/png": "[encoded data removed]",
      "text/plain": [
       "<Figure size 432x288 with 1 Axes>"
      ]
     },
     "metadata": {
      "needs_background": "light"
     },
     "output_type": "display_data"
    }
   ],
   "source": [
    "# Vi väjer kolumnen med lufttemperaturer: 'Ilman lämpötila (degC)'\n",
    "# och vi sparar den som variabeln 'temp'\n",
    "temp = data['Ilman lämpötila (degC)']\n",
    "\n",
    "# Vi skapar ett histogram, och väljer till en början at ha 50 staplar.\n",
    "plt.hist(temp, bins=50)\n",
    "\n",
    "# Vi namnger koordinataxlarna\n",
    "plt.xlabel('Temperatur (°C)')\n",
    "plt.ylabel('Mätningar per stapel')\n",
    "\n",
    "# Vi lägger till en rubrik för diagrammet\n",
    "plt.title('Temperaturmätning i Helsingfors januari 2021')\n",
    "\n",
    "# Vi visar grafen med plt.show()\n",
    "plt.show()"
   ]
  },
  {
   "cell_type": "markdown",
   "metadata": {},
   "source": [
    "Vi lyckades få ett histogram. Nu vill vi göra det tydligare. Vi kan till exempel göra så att varje stapels bredd motsvarar en grad Celsius."
   ]
  },
  {
   "cell_type": "code",
   "execution_count": 15,
   "metadata": {},
   "outputs": [
    {
     "data": {
      "image/png": "[encoded data removed]",
      "text/plain": [
       "<Figure size 432x288 with 1 Axes>"
      ]
     },
     "metadata": {
      "needs_background": "light"
     },
     "output_type": "display_data"
    }
   ],
   "source": [
    "# Vi ritar ett histogram i intervallet -22 degC ... 4 degC, , så vi behöver 26 staplar.\n",
    "# Parametern fill=False gör så att staplarna blir lättare att urskilja, då bara staplarnas konturer syns.\n",
    "plt.hist(temp, bins=26, range=(-22,4), fill=False)\n",
    "\n",
    "# Vi begränsar x-axeln till samma intervall som histogrammet.\n",
    "plt.xlim((-22,4))\n",
    "\n",
    "plt.xlabel('Temperatur (°C)')\n",
    "plt.ylabel('Mätningar/°C')\n",
    "plt.title('Temperaturmätningar i Helsingfors januari 2021')\n",
    "\n",
    "\n",
    "# Vi visar grafen med plt.show()\n",
    "plt.show()"
   ]
  },
  {
   "cell_type": "markdown",
   "metadata": {},
   "source": [
    "I datafilen vi behandlade här finns också andra data, bland annat vindhastighet och snödjup. Testa rita en graf eller histogram över någon annan av kolumnerna. Du kan också leta upp något dataset själv, och läsa in det med hjälp av **read_csv**-kommandot."
   ]
  }
 ],
 "metadata": {
  "kernelspec": {
   "display_name": "Python 3",
   "language": "python",
   "name": "python3"
  },
  "language_info": {
   "codemirror_mode": {
    "name": "ipython",
    "version": 3
   },
   "file_extension": ".py",
   "mimetype": "text/x-python",
   "name": "python",
   "nbconvert_exporter": "python",
   "pygments_lexer": "ipython3",
   "version": "3.8.5"
  }
 },
 "nbformat": 4,
 "nbformat_minor": 5
}
