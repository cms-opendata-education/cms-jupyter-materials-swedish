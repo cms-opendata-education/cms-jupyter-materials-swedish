{
 "cells": [
  {
   "cell_type": "markdown",
   "metadata": {},
   "source": [
    "# Att rita ett histogram över önskad datamängd"
   ]
  },
  {
   "cell_type": "markdown",
   "metadata": {},
   "source": [
    "I den här övningen bekantar vi oss med hur datapunkternas mängd inverkar på histogrammet. För undersökningen använde vi den invarianta massan som har behandlats i tidigare övningar. Datan vi använder kommer från mätningar med CERNs CMS-detektor."
   ]
  },
  {
   "cell_type": "markdown",
   "metadata": {},
   "source": [
    "### CMS-detektorn"
   ]
  },
  {
   "cell_type": "markdown",
   "metadata": {},
   "source": [
    "Med LHC-acceleratorn i CERN accelererar man partikelströmmar och låter dem kollidera med varandra. Med hjälp av CMS-detektorn kan man mäta och visa de partiklar som uppstår vid kollisionerna. På bilden nedan kan man se hur CMS-detektorn ser ut när den är öppen.\n",
    "\n",
    "<img src=\"https://raw.githubusercontent.com/cms-opendata-education/cms-jupyter-materials-finnish/master/Kuvat/CMS_avattu.jpg\" alt=\"CMS-ilmaisin avattuna\" style=\"height: 400px\">\n",
    "\n",
    "(Bild: Domenico Salvagnin, https://commons.wikimedia.org/wiki/File:CMS@CERN.jpg)\n",
    "<br>"
   ]
  },
  {
   "cell_type": "markdown",
   "metadata": {},
   "source": [
    "### 1) Start"
   ]
  },
  {
   "cell_type": "markdown",
   "metadata": {},
   "source": [
    "Vi börjar med en kod som tar in de variabler och funktionspaket som vi behöver. Dokumentets kodceller behöver köras i rätt ordning för att fungera. Du kan köra en cell genom att klicka på den och trycka **Ctrl + Enter**."
   ]
  },
  {
   "cell_type": "code",
   "execution_count": 2,
   "metadata": {},
   "outputs": [],
   "source": [
    "# Vi hämtar in funktionspaketen först. Pandas läser in datafiler, numpy låter oss göra beräkningar, och\n",
    "# matplotlib.pyplot låter oss rita grafer. Vi ger paketen kortnamn (pd, np och plt), så kan vi\n",
    "# lättare använda dem senare.\n",
    "\n",
    "import pandas as pd\n",
    "import numpy as np\n",
    "import matplotlib.pyplot as plt"
   ]
  },
  {
   "cell_type": "code",
   "execution_count": 3,
   "metadata": {},
   "outputs": [],
   "source": [
    "# Vi skapar en ny DataFrame av CMS' mätdata från filen  \"Zmumu_Run2011A_massoilla.csv\".\n",
    "# En DataFrame är en tabellvariabel. Ungefär som en excel-fil.\n",
    "# Vi kallar variabeln \"dataset\"\n",
    "\n",
    "dataset = pd.read_csv('https://raw.githubusercontent.com/cms-opendata-education/cms-jupyter-materials-finnish/master/Data/Zmumu_Run2011A_massoilla.csv')\n",
    "\n",
    "# Vad innehåller filen? Kontrollera genom att skriva ut de 5 första radena av DataFramen\n",
    "# Minns du hur man gör? Skriv koden här nedan.\n"
   ]
  },
  {
   "cell_type": "code",
   "execution_count": 4,
   "metadata": {},
   "outputs": [],
   "source": [
    "# Vi skapar en serie-variabel (som i praktiken är en tabell med bara en kolumn) och kallar den \"invariant_massa\"\n",
    "# Vi definierar den som \"dataset\"-variabelns kolumn 'M'.\n",
    "\n",
    "invariant_massa = dataset['M']\n",
    "\n",
    "# Hur många värden finns sparade i variabeln 'invariant_massa'?\n",
    "# Kan du ta reda på? Skriv koden nedan.\n"
   ]
  },
  {
   "cell_type": "markdown",
   "metadata": {},
   "source": [
    "Den här gången vill vi själva välja hur många värden av den invarianta massan som ska användas för att rita histogrammet. Till det här behöver vi skapa en tom tabell, dit vi kan spara den önskade mängden värden."
   ]
  },
  {
   "cell_type": "code",
   "execution_count": 5,
   "metadata": {},
   "outputs": [],
   "source": [
    "# Vi skapar en tom tabell 'valda', där vi kan spara den valda mängden datapunkter.\n",
    "valda = []"
   ]
  },
  {
   "cell_type": "markdown",
   "metadata": {},
   "source": [
    "### 2) Val av datamängd"
   ]
  },
  {
   "cell_type": "markdown",
   "metadata": {},
   "source": [
    "Koden nedan frågar användaren hur många mätningar som ska ingå, och sammanställer dem i ett histogram. I detta exempel skapar vi histogrammet på ett annat sätt än tidigare.\n",
    "\n",
    "Kör koden genom att klicka på kodcellen och trycka **Ctrl + Enter**. Du kan köra om cellen flera gånger och välja olika mängder data."
   ]
  },
  {
   "cell_type": "markdown",
   "metadata": {},
   "source": [
    "### Uppgiften"
   ]
  },
  {
   "cell_type": "markdown",
   "metadata": {},
   "source": [
    "Kontrollera koden. Vad tror du händer om\n",
    "- du sätter in ett annat värde än ett heltal när cellen ber om en input?\n",
    "- du sätter in ett värde som är större än antalet tillgängliga datapunkter?\n",
    "- tar bort **\\n** från print-kommandona?\n",
    "\n",
    "Testa om du trodde rätt.\n",
    "\n",
    "Undersök hur den valda datamängden påverkar histogrammet.\n",
    "- Vilka värden på invariant massa verkar vanligast?\n",
    "- Vad kan du avgöra från den informationen?\n",
    "- Hur påverkas tolkningen av histogrammet när vi ändrar antalet *bins*?"
   ]
  },
  {
   "cell_type": "code",
   "execution_count": 10,
   "metadata": {},
   "outputs": [
    {
     "name": "stdout",
     "output_type": "stream",
     "text": [
      "Ange önskat antal datapunkter: 200\n",
      "\n",
      " Du valde 200 mätvärden på invariant massa.\n"
     ]
    },
    {
     "data": {
      "image/png": "[encoded data removed]",
      "text/plain": [
       "<Figure size 432x288 with 1 Axes>"
      ]
     },
     "metadata": {
      "needs_background": "light"
     },
     "output_type": "display_data"
    }
   ],
   "source": [
    "# Vi ber användaren ange antalet värden som ska användas och sparar detta som variabeln 'antal'.\n",
    "# Koden kräver input-värdet skall vara ett heltal (integer).\n",
    "antal = int(input('Ange önskat antal datapunkter: '))\n",
    "\n",
    "# Vi gör en if-sats som kontrollerar variabeln 'antal', och en for-loop som tar rätt mängd element ur tabellen. \n",
    "if antal > len(invariant_massa):\n",
    "    print('''\\n Det angivna antalet är större än antalet tillgängliga datapunkter. Ett histogram kunde därför inte skapas.\n",
    "    Antalet tillgängliga datapunkter är %i.''' % len(invariant_massa))\n",
    "\n",
    "else:    \n",
    "    for f in range(antal):\n",
    "        M = invariant_massa[f]\n",
    "        valda.append(M)\n",
    "    print('\\n Du valde %i mätvärden på invariant massa.' %(antal))\n",
    "\n",
    "# Vi använder numpy-paketets histogram-funktion och skapar ett histogram över det valda antalet invarianta massor. \n",
    "# Vi namnger histogrammet \"histogram1\".\n",
    "histogram1 = np.histogram(valda, bins=120, range=(60,120))\n",
    "\n",
    "\n",
    "# Vad händer om vi ändrar värdena på parametrarna bins och range?\n",
    "\n",
    "\n",
    "# Vi färdigställer histogrammet.\n",
    "# Vi väljer staplarnas bredd och histogrammets mitt.\n",
    "hist1, bins1 = histogram1\n",
    "width1 = 1.0*(bins1[1] - bins1[0])\n",
    "center1 = (bins1[:-1] + bins1[1:])/2\n",
    "\n",
    "# Vi ritar histogrammet med hjälp av matplotlib.pyplot (plt)\n",
    "plt.bar(center1, hist1, align='center', width=width1)\n",
    "\n",
    "# Vi namnger koordinataxlarna och ger grafen en titel.\n",
    "plt.xlabel('Invariant massa [GeV/c²]')\n",
    "plt.ylabel('Antal observationer per stapel', fontsize=10)\n",
    "plt.title('Histogram över två myoners invarianta massa\\n', fontsize=15)\n",
    "\n",
    "# Vi låser y-axeln till intervallet 0-800.\n",
    "axes = plt.gca()\n",
    "axes.set_ylim([0,800])\n",
    "\n",
    "# Testa att byta y-axelns visningsintervall. Vad händer om vi inte alls definierar något intervall?\n",
    "# Du kan hoppa över rader som inte verkar nödvändiga genom att sätta ett #-tecken framför.\n",
    "\n",
    "\n",
    "\n",
    "# Hur kan du ändra x-axelns intervall?\n",
    "\n",
    "\n",
    "# Vi återställer listan så att vi ska kunna köra cellen igen.\n",
    "valda = []"
   ]
  }
 ],
 "metadata": {
  "kernelspec": {
   "display_name": "Python 3",
   "language": "python",
   "name": "python3"
  },
  "language_info": {
   "codemirror_mode": {
    "name": "ipython",
    "version": 3
   },
   "file_extension": ".py",
   "mimetype": "text/x-python",
   "name": "python",
   "nbconvert_exporter": "python",
   "pygments_lexer": "ipython3",
   "version": "3.8.5"
  }
 },
 "nbformat": 4,
 "nbformat_minor": 2
}
