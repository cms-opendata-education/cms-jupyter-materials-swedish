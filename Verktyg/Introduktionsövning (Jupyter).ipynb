{
 "cells": [
  {
   "cell_type": "markdown",
   "metadata": {},
   "source": [
    "# Kort introduktionsövning för Jupyter"
   ]
  },
  {
   "cell_type": "markdown",
   "metadata": {},
   "source": [
    "Om du har öppnat detta dokument i Jupyter Notebooks kan du följa instruktionerna och göra ändringar direkt i samma Notebook. Om det här går bra förstår du redan programmet tillräckligt för att använda det för labbrapporter eller andra projektpresentationer i gymnasiet\n",
    "\n",
    "Lycka till!"
   ]
  },
  {
   "cell_type": "markdown",
   "metadata": {},
   "source": [
    "### 1) Skapa en textcell"
   ]
  },
  {
   "cell_type": "markdown",
   "metadata": {},
   "source": [
    "- Skapa en ny cell genom att trycka snabbkommandot *b* (below) eller *a* (above) eller _Insert_ -> _Insert Cell Below_.\n",
    "- Gör cellen till en textcell (Markdown), med snabbkommandot *m*.\n",
    "- Skriv vanlig text och en matematisk ekvation med hjälp av $\\LaTeX$-kod.\n",
    "- Kör cellen. Snabbkommando: *Ctrl + Enter*."
   ]
  },
  {
   "cell_type": "markdown",
   "metadata": {},
   "source": [
    "### 2) Infoga bild"
   ]
  },
  {
   "cell_type": "markdown",
   "metadata": {},
   "source": [
    "- Infoga en valfri bild i din textcell. Du behöver hänvisa till bilden antingen genom en länk (om bilden finns online) eller genom bildens sökväg (om bilden hittas lokalt).\n",
    "- Du kan exempelvis använda länken till denna jupyter-logo från Wikimedia Commons: https://upload.wikimedia.org/wikipedia/commons/3/38/Jupyter_logo.svg\n",
    "\n",
    "<img src = \"https://upload.wikimedia.org/wikipedia/commons/3/38/Jupyter_logo.svg\" height = \"120\" width = \"120\">"
   ]
  },
  {
   "cell_type": "markdown",
   "metadata": {},
   "source": [
    "### 3) Skapa en kodcell"
   ]
  },
  {
   "cell_type": "markdown",
   "metadata": {},
   "source": [
    "- Skapa en ny cell, och gör den till en kodcell (Code).\n",
    "- Skriv en kod som beräknar medelvärdet av talen 3, 5, 6, 7 och 9.\n",
    "- Skriv koden så att den skriver ut meddelandet \"Vi beräknar medelvärdet: [värde]\"\n",
    "- Kör cellen. Snabbkommando: *Ctrl + Enter*.\n"
   ]
  },
  {
   "cell_type": "markdown",
   "metadata": {},
   "source": [
    "### 4) Skapa rubrik och spara"
   ]
  },
  {
   "cell_type": "markdown",
   "metadata": {},
   "source": [
    "- Gör passande rubriker till dina celler. Använd skilda celler för rubrikerna.\n",
    "- Spara din Notebook."
   ]
  }
 ],
 "metadata": {
  "kernelspec": {
   "display_name": "Python 3",
   "language": "python",
   "name": "python3"
  },
  "language_info": {
   "codemirror_mode": {
    "name": "ipython",
    "version": 3
   },
   "file_extension": ".py",
   "mimetype": "text/x-python",
   "name": "python",
   "nbconvert_exporter": "python",
   "pygments_lexer": "ipython3",
   "version": "3.8.5"
  }
 },
 "nbformat": 4,
 "nbformat_minor": 1
}
