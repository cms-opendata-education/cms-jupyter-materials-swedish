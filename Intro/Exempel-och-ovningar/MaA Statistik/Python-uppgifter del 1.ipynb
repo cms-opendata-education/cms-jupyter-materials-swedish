{
 "cells": [
  {
   "cell_type": "markdown",
   "metadata": {},
   "source": [
    "# Statistikuppgifter set 1"
   ]
  },
  {
   "cell_type": "markdown",
   "metadata": {},
   "source": [
    "### Instruktioner"
   ]
  },
  {
   "cell_type": "markdown",
   "metadata": {},
   "source": [
    "1. Spara detta dokument på din dator, tillsammans med tillhörande filer, och öppna det i Jupyter Notebooks.\n",
    "2. Dokumentet ska lämnas tillbaka när uppgifterna är gjorda, så byt namn på dokumentet till EfternamnFornamn1. (Ex. HammarstromLukas1), så får jag inte 60 filer med samma namn tillbaka.\n",
    "3. Utför uppgifterna i dokumentet. Jupyter-uppgifterna har fullständiga instruktioner här, medan det du behöver för python-uppgifterna finns på lektionsslides.\n",
    "4. Spara dokumentet och lämna in det på classroom."
   ]
  },
  {
   "cell_type": "markdown",
   "metadata": {},
   "source": [
    "## Jupyter-uppgifter"
   ]
  },
  {
   "cell_type": "markdown",
   "metadata": {},
   "source": [
    "### 1. Köra celler"
   ]
  },
  {
   "cell_type": "markdown",
   "metadata": {},
   "source": [
    "Ett Jupyter-dokument består av textceller och kodceller. Detta är en textcell, även kallad markdown. Du kan öppna en cell i edit mode genom att dubbelklicka den. Du kan **köra** (run) en cell genom att trycka **Ctrl + Enter**, eller **Run**-knappen i menybalken.\n",
    "\n",
    "Testa öppna, ändra och kör denna cell."
   ]
  },
  {
   "cell_type": "markdown",
   "metadata": {},
   "source": [
    "### 2. Nya celler och celltyp"
   ]
  },
  {
   "cell_type": "markdown",
   "metadata": {},
   "source": [
    "Denna cell är en textcell. När du markerar dem ser du texten \"Markdown\" i en ruta i övre kanten. Ändra cellens typ till \"Code\".\n",
    "\n",
    "Man kan sätta in nya celler om det behövs. Se i den övre menybalken, och välj **Insert** $\\rightarrow$ **Insert cell below**.\n",
    "\n",
    "En ny cell är automatiskt en kodcell. Ändra den nya cellen till Markdown."
   ]
  },
  {
   "cell_type": "markdown",
   "metadata": {},
   "source": [
    "### 3. Bilder och länkar"
   ]
  },
  {
   "cell_type": "markdown",
   "metadata": {},
   "source": [
    "Om man skriver en artikel i en notebook vill man kanske lägga in bilder. kommandot för att göra detta är ``<img src=    >``\n",
    "\n",
    "Efter likamedtecknet kan man\n",
    "- skriva en webbadress till en bild. Då hämtar Jupyter automatiskt in bilden.\n",
    "- skriva filnamnet på en bild som ligger i samma mapp som denna notebook på din dator. (fungerar inte på Colab)\n",
    "\n",
    "Använd den nya cellen du skapade i uppgift 2. Använd ``<img src=    >``-kommandot för att lägga till en bild. Kör cellen. Syns bilden?"
   ]
  },
  {
   "cell_type": "markdown",
   "metadata": {},
   "source": [
    "## Python-uppgifter"
   ]
  },
  {
   "cell_type": "markdown",
   "metadata": {},
   "source": [
    "### 1. Obligatoriskt \"Hello World!\"-program"
   ]
  },
  {
   "cell_type": "markdown",
   "metadata": {},
   "source": [
    "Det hör till traditionen att man börjar vägen mot programmering med att göra ett program som skriver ut meddelandet \"Hello World!\". Använd **print()**-kommandot för att skriva ett sådant program i cellen nedan. Kom ihåg att använda citationstecken när du skriver text."
   ]
  },
  {
   "cell_type": "code",
   "execution_count": null,
   "metadata": {},
   "outputs": [],
   "source": []
  },
  {
   "cell_type": "markdown",
   "metadata": {},
   "source": [
    "### 2. Variabler"
   ]
  },
  {
   "cell_type": "markdown",
   "metadata": {},
   "source": [
    "Beräkningar i Python använder vanligen variabler. En variabel kan definieras med hjälp av ett =-tecken.\n",
    "````python\n",
    "manader = 12    # Variabeln månader har nu värdet 12.\n",
    "````\n",
    "\n",
    "Skriv ett program som definierar variablerna **a** och **b** (vilka värden du vill), multiplicerar dem och skriver ut svaret. (multiplikation görs med ett *-tecken.)"
   ]
  },
  {
   "cell_type": "code",
   "execution_count": null,
   "metadata": {},
   "outputs": [],
   "source": []
  },
  {
   "cell_type": "markdown",
   "metadata": {},
   "source": [
    "### 3. Listor"
   ]
  },
  {
   "cell_type": "markdown",
   "metadata": {},
   "source": [
    "En lista är en serie värden. De kan vara siffervärden, text eller andra variabler.\n",
    "Man kan spara listan som ett variabelvärde.\n",
    "\n",
    "````python\n",
    "lista = [2, 3, \"banan\", \"äpple\", 5]\n",
    "````\n",
    "\n",
    "Fråga minst 5 vänners skostorlek och skriv in dem i listan *skostorlekar*. Skriv en kod som räknar summan av skostorlekarna och medeltalet av skostorlekarna.\n",
    "\n",
    "Kom ihåg att importera numpy-paketet."
   ]
  },
  {
   "cell_type": "code",
   "execution_count": 1,
   "metadata": {},
   "outputs": [],
   "source": [
    "# Rader som börjar med # påverkar inte koden.\n",
    "# Använd gärna sådana kommentarer för att förklara vad koden gör.\n",
    "# Här har vi redan en lista \"skostorlekar\". Nu är det bara att fylla i värden.\n",
    "\n",
    "skostorlekar = [ ]"
   ]
  },
  {
   "cell_type": "markdown",
   "metadata": {},
   "source": [
    "### Inlämning"
   ]
  },
  {
   "cell_type": "markdown",
   "metadata": {},
   "source": [
    "Spara denna Notebook och lämna in den på classroom. Kom ihåg att byta namn på filen enligt instruktionerna.\n",
    "\n",
    "Denna notebook poängsätts inte, men vi kontrollerar så att inlämningen fungerar för alla. Säg till om någon av uppgifterna inte lyckas.\n",
    "\n",
    "Nästa gång skapar vi diagram i våra notebooks."
   ]
  }
 ],
 "metadata": {
  "kernelspec": {
   "display_name": "Python 3",
   "language": "python",
   "name": "python3"
  },
  "language_info": {
   "codemirror_mode": {
    "name": "ipython",
    "version": 3
   },
   "file_extension": ".py",
   "mimetype": "text/x-python",
   "name": "python",
   "nbconvert_exporter": "python",
   "pygments_lexer": "ipython3",
   "version": "3.8.5"
  }
 },
 "nbformat": 4,
 "nbformat_minor": 4
}
