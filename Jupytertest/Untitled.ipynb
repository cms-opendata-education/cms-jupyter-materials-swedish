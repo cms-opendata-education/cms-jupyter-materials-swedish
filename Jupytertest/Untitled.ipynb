{
 "cells": [
  {
   "cell_type": "markdown",
   "metadata": {},
   "source": [
    "Här är en kod för att beräkna sannolikheter för tärningskast och visualisera dem"
   ]
  },
  {
   "cell_type": "markdown",
   "metadata": {},
   "source": [
    "Först tar vi in några paket. Numpy innehåller funktioner som vi behöver för beräkningar, och matplotlib.pyplot hjälper oss att rita grafer."
   ]
  },
  {
   "cell_type": "code",
   "execution_count": 8,
   "metadata": {},
   "outputs": [],
   "source": [
    "import numpy as np\n",
    "import matplotlib.pyplot as plt\n",
    "\n",
    "print(\"Nu har vi importerat Numpy och Pyplot.\")"
   ]
  },
  {
   "cell_type": "markdown",
   "metadata": {},
   "source": [
    "Vi vill göra en lista på alla de möjliga utfallen när vi kastar två 6-sidiga tärningar.\n",
    "Vi skapar variabeln \"tarning\", som är en lista på alla tal en tärning kan visa, och variabeln \"resultat\", där vi sätter in alla de möjliga ögonsummorna från två tärningskast.\n",
    "\n",
    "Vi använder en s.k. for-loop. \"for i in tarning\" betyder att vi gör loopens funktion för varje element i listan tarning, och vi kallar elementet för i medan vi gör det. Vi använder ytterligare en loop i loopen.\n",
    "Resultatet är att vi kombinerar alla siffror 1-6 med alla siffror 1-6 och adderar dem. Summan sätts in i listan \"resultat\" genom .append-kommandot, och listan skrivs sedan ut."
   ]
  },
  {
   "cell_type": "code",
   "execution_count": 3,
   "metadata": {},
   "outputs": [
    {
     "name": "stdout",
     "output_type": "stream",
     "text": [
      "[2, 3, 4, 5, 6, 7, 3, 4, 5, 6, 7, 8, 4, 5, 6, 7, 8, 9, 5, 6, 7, 8, 9, 10, 6, 7, 8, 9, 10, 11, 7, 8, 9, 10, 11, 12]\n"
     ]
    }
   ],
   "source": [
    "tarning = [1, 2, 3, 4, 5, 6]\n",
    "resultat = []\n",
    "for i in tarning:\n",
    "    for j in tarning:\n",
    "        resultat.append(i+j)\n",
    "print(resultat)\n"
   ]
  },
  {
   "cell_type": "markdown",
   "metadata": {},
   "source": [
    "Nu, för att visualisera dessa resultat, vill vi göra ett histogram (stapeldiagram). Vi började med att importera matplotlib.pyplot (se till att du har kört den cellen). Kommandot plt.hist skapar ett histogram över en valfri lista."
   ]
  },
  {
   "cell_type": "code",
   "execution_count": 9,
   "metadata": {},
   "outputs": [
    {
     "data": {
      "text/plain": [
       "(array([1., 2., 3., 4., 5., 6., 5., 4., 3., 3.]),\n",
       " array([ 2.,  3.,  4.,  5.,  6.,  7.,  8.,  9., 10., 11., 12.]),\n",
       " <BarContainer object of 10 artists>)"
      ]
     },
     "execution_count": 9,
     "metadata": {},
     "output_type": "execute_result"
    },
    {
     "data": {
      "image/png": "[encoded data removed]",
      "text/plain": [
       "<Figure size 432x288 with 1 Axes>"
      ]
     },
     "metadata": {
      "needs_background": "light"
     },
     "output_type": "display_data"
    }
   ],
   "source": [
    "plt.hist(resultat)"
   ]
  },
  {
   "cell_type": "markdown",
   "metadata": {},
   "source": [
    "Något är fel. Vi märker att histogrammet har slagit ihop resultaten för 11 och 12. Vi måste ändra antalet staplar i histogrammet."
   ]
  },
  {
   "cell_type": "code",
   "execution_count": 10,
   "metadata": {},
   "outputs": [
    {
     "data": {
      "text/plain": [
       "(array([1., 2., 3., 4., 5., 6., 5., 4., 3., 2., 1.]),\n",
       " array([ 2.        ,  2.90909091,  3.81818182,  4.72727273,  5.63636364,\n",
       "         6.54545455,  7.45454545,  8.36363636,  9.27272727, 10.18181818,\n",
       "        11.09090909, 12.        ]),\n",
       " <BarContainer object of 11 artists>)"
      ]
     },
     "execution_count": 10,
     "metadata": {},
     "output_type": "execute_result"
    },
    {
     "data": {
      "image/png": "[encoded data removed]",
      "text/plain": [
       "<Figure size 432x288 with 1 Axes>"
      ]
     },
     "metadata": {
      "needs_background": "light"
     },
     "output_type": "display_data"
    }
   ],
   "source": [
    "plt.hist(resultat, bins=11) #plt.hist använder 10 staplar om man inte specificerar ett annat antal."
   ]
  },
  {
   "cell_type": "code",
   "execution_count": 8,
   "metadata": {},
   "outputs": [
    {
     "name": "stdout",
     "output_type": "stream",
     "text": [
      "(3, 2, 3, 2)\n"
     ]
    }
   ],
   "source": [
    "\n",
    "a = 3,2\n",
    "b=a+(3,2)\n",
    "print(b)"
   ]
  },
  {
   "cell_type": "code",
   "execution_count": null,
   "metadata": {},
   "outputs": [],
   "source": []
  }
 ],
 "metadata": {
  "kernelspec": {
   "display_name": "Python 3",
   "language": "python",
   "name": "python3"
  },
  "language_info": {
   "codemirror_mode": {
    "name": "ipython",
    "version": 3
   },
   "file_extension": ".py",
   "mimetype": "text/x-python",
   "name": "python",
   "nbconvert_exporter": "python",
   "pygments_lexer": "ipython3",
   "version": "3.8.5"
  }
 },
 "nbformat": 4,
 "nbformat_minor": 4
}
