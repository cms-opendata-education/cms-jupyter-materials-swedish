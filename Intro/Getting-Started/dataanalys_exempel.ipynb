{
 "cells": [
  {
   "cell_type": "markdown",
   "metadata": {},
   "source": [
    "# Välkomna till dataanalys och programmering!"
   ]
  },
  {
   "cell_type": "markdown",
   "metadata": {},
   "source": [
    "I den här övningen går vi genom exempel på hur Python-programmering kan användas i dataanalys. Vi börjar med grunderna i Jupyter Notebook-miljön och går därfrån vidare med programmeringsspråket Python."
   ]
  },
  {
   "cell_type": "markdown",
   "metadata": {},
   "source": [
    "# Notebooks"
   ]
  },
  {
   "cell_type": "markdown",
   "metadata": {},
   "source": [
    "Jupyter Notebooks är dokument, där vi kan skriva text och infoga bilder, samt skriva och köra kod.\n",
    "\n",
    "Dokumentet byggs upp av \"celler\", antingen **textceller** (Markdown) eller **kodceller** (Code). Denna cell är en textcell. Om du klickar på en här cellen ser du att cellens vänstra kant blir blå för att visa att den är markerad. Om du istället dubbelklickar cellen öppnar du den i **edit mode**. I edit mode kan du ändra cellens innehål, och när du är klar kan du köra cellen med att trycka **Ctrl + Enter**, så processeras texten.\n",
    "\n",
    "Nedan finns ett exempel på en kodcell. Man känner igen kodceller på texten `In [ ]:` till vänster om dem. I kodcellerna kan vi skriva kod i rogrammeringsspråket Python. Testa att markera cellen nedan och kör den med **Ctrl + Enter** för att se vad den gör."
   ]
  },
  {
   "cell_type": "code",
   "execution_count": 1,
   "metadata": {
    "scrolled": false
   },
   "outputs": [
    {
     "name": "stdout",
     "output_type": "stream",
     "text": [
      "Hello, World!\n"
     ]
    }
   ],
   "source": [
    "# Textrader som börjar med # i en kodcell är kommentarer, och påverkar inte koden.\n",
    "# Kommentarer används vanligen för att beskriva vad kodcellen gör eller för att ge instruktioner.\n",
    "\n",
    "print('Hello, World!')      # print() -kommandot ber kodcellen skriva ut ett meddelande."
   ]
  },
  {
   "cell_type": "markdown",
   "metadata": {},
   "source": [
    "Fint! Du körde nyss din första kodcell! När kodcellen har körts, står ett ordningstal/index bredvid cellen, ex.`In [1]:`. Om hakparentesen innehåller en asterisk (`In [*]:`), så håller cellen på att köras.\n",
    "\n",
    "I notebooks kan du lägga till celler med hjälp av \"**+**\"-knappen i menyn ovanför. I menyn finns också alternativ för att ändra cellens typ (markdown/code). Testa själv att lägga till en kodcell och be den skriva ut ett meddelande på samma sätt som *Hello World!*-koden ovan!"
   ]
  },
  {
   "cell_type": "markdown",
   "metadata": {},
   "source": [
    "# Python-programmering"
   ]
  },
  {
   "cell_type": "markdown",
   "metadata": {},
   "source": [
    "Denna övning är ämnad att handleda dig i dataanalys med Python. Därför kommer vi inte att gå igenom så många av Pythons grundläggande trick och funktioner, utan kommer att bekanta oss med de specifika verktyg som behövs för dataanalys. Om du vill ha en bredare kunskap om Python kan du ta en titt på hemsidan [https://www.learnpython.org/](https://www.learnpython.org/)."
   ]
  },
  {
   "cell_type": "markdown",
   "metadata": {},
   "source": [
    "## Att läsa data ur en fil\n",
    "\n",
    "En viktig del av dataanalys är insamling av data. Samlad data brukar sparas i en tabell i någon textfil eller kalkylblad. Vi tar Meteorologiska Institutets väderobservationer som exempel: Observationerna sparas i datafiler, och i [Meteorologiska Institutets söktjänst](https://www.ilmatieteenlaitos.fi/havaintojen-lataus) kan man söka information med bestämda kriterier (t.ex. månatlig medeltemperatur, jan-dec 2020, Helsingfors-Vanda flygfält), och sedan kan vi ladda ned informationen som csv-fil. Data över månatliga medeltemperaturer finns sparat i samma mapp som denna notebook med namnet \"keskilampotila2020_Helsinki.csv\".\n",
    "\n",
    "I Python finns en del grundfunktioner, så som **print()**-kommandot vi testade ovan, men vi kan utöka möjligheterna genom att importera *funktionspaket/moduler*. Python är ett vitt använt programmeringsspråk och moduler finns i mängd och massor. Vi kommer här att bekanta oss med två moduler som lämpar sig för dataanalys, nämligen **matplotlib** och **pandas**. Pandas-paketet innehåller verktug för att läsa in datafiler, och matplotlib låter oss skapa grafer.\n",
    "\n",
    "Man kan läsa in paket med hjälp av **import**-kommandot på följande sätt:\n",
    "\n",
    "```python\n",
    "import pandas\n",
    "```\n",
    "\n",
    "Därefter kan man använda verktygen som ingår i pandas-paketet, t.ex. [**read_csv()**](https://pandas.pydata.org/pandas-docs/stable/reference/api/pandas.read_csv.html):\n",
    "\n",
    "```python\n",
    "data = pandas.read_csv(...)\n",
    "```\n",
    "read_csv-kommandot läser in en datafil i csv-format och kan spara den som en variabel, i detta fall variabeln 'data'.\n",
    "\n",
    "Vanligen anger vi en förkortning för paketet med kommandot **import** ... **as**, för att göra resten av koden lite smidigare:\n",
    "\n",
    "```python\n",
    "import pandas as pd\n",
    "data = pd.read_csv(...)\n",
    "```\n",
    "\n",
    "<div class=\"alert alert-info\">\n",
    "    \n",
    "**Paket**\n",
    "\n",
    "Ta paketet i bruk med **import**-kommandot\n",
    "\n",
    "```python\n",
    "import modulens_namn as förkortning\n",
    "```\n",
    "\n",
    "Exempel:\n",
    "    \n",
    "```python\n",
    "import pandas as pd\n",
    "```\n",
    "</div>"
   ]
  },
  {
   "cell_type": "code",
   "execution_count": null,
   "metadata": {},
   "outputs": [],
   "source": [
    "# Använd denna cell för att skriva en kod som tar pandas i bruk under förkortningen \"pd\"\n",
    "# Kör cellen. Obs! Cellen skriver inte ut något, men den gör så att pandas kan användas i resten av koden.\n"
   ]
  },
  {
   "cell_type": "markdown",
   "metadata": {},
   "source": [
    "Man kan läsa in data från ett dokument med hjälp av [`read_csv()`](https://pandas.pydata.org/pandas-docs/stable/reference/api/pandas.read_csv.html)-verktyget. I Python kallar vi sådana verktyg *funktioner*. I praktiken är funktioner förkortningar för bestämda kodsegment som vi använder ofta. En lista över Pythons inbyggda funktioner hittar du [här](https://docs.python.org/3/library/functions.html), till exempel  [`print()`](https://docs.python.org/3/library/functions.html#print), som vi använde tidigare. I `print()`-funktionens parenteser skriver vi den text som ska skrivas ut, och vi kallar det för funktionens *parametrar*. Olika funktioner kräver olika parametrar. Vi tar ett exempel med funktionen [`pow(x, y)`](https://docs.python.org/3/library/functions.html#pow), som höjer ett givet tal x i potensen y:"
   ]
  },
  {
   "cell_type": "code",
   "execution_count": 3,
   "metadata": {},
   "outputs": [
    {
     "data": {
      "text/plain": [
       "9"
      ]
     },
     "execution_count": 3,
     "metadata": {},
     "output_type": "execute_result"
    }
   ],
   "source": [
    "# Vi räknar 3 upphöjt i 2. \n",
    "# Kör denna cell\n",
    "\n",
    "pow(3,2)"
   ]
  },
  {
   "cell_type": "markdown",
   "metadata": {},
   "source": [
    "Funktionen kan alltså returnera en *output*, som talet 9 i den förra cellen. Funktionens output kan också sparas som en *variabel*, så att den kan användas senare i koden."
   ]
  },
  {
   "cell_type": "code",
   "execution_count": 4,
   "metadata": {},
   "outputs": [],
   "source": [
    "# Vi räknar 3^2 och sparar resultatet som variabeln \"x\"\n",
    "# Kör denna cell. Obs: Cellen skriver inte ut någon output - vi bara definierar en variabel.\n",
    "\n",
    "x = pow(3,2)"
   ]
  },
  {
   "cell_type": "code",
   "execution_count": 5,
   "metadata": {},
   "outputs": [
    {
     "name": "stdout",
     "output_type": "stream",
     "text": [
      "9\n"
     ]
    }
   ],
   "source": [
    "# Skriv ut variabelns x värde.\n",
    "# Obs. När vi skriver ut ett variabelvärde använder vi inga citationstecken.\n",
    "# Du kan testa vad som händer om du lägger till citationstecken kring \"x\".\n",
    "# Kör cellen!\n",
    "\n",
    "print(x)"
   ]
  },
  {
   "cell_type": "markdown",
   "metadata": {},
   "source": [
    "Så vissa funktioner finns alltså i Python hela tiden, men funktionspaket så som pandas och matplotlib utgör nödvändiga tillägg.\n",
    "Man kan också skapa funktioner själv, men det går vi inte igenom här.\n",
    "\n",
    "Vi återgår till att läsa in data. Vi gör detta med pandas-paketets [**read_csv()**](https://pandas.pydata.org/pandas-docs/stable/reference/api/pandas.read_csv.html)-funktion, och som funktionsparameter sätter vi namnet på den datafil som ska läsas. *Detta fungerar om filen finns i samma mapp som Notebooken.* En csv-fil (comma separated values) är en textfil bestående av tabellvärden som skiljs med kommatecken.\n",
    "\n",
    "```python\n",
    "pd.read_csv('filnamn.csv')   # Kom ihåg '-tecknen\n",
    "```\n",
    "\n",
    "[`read_csv()`](https://pandas.pydata.org/pandas-docs/stable/reference/api/pandas.read_csv.html)-funktionen kan också ta emot andra parametrar, t.ex.  `delimiter=\";\"`, vilket gör att funktionen tolkar semikolon istället för kommatecken som skiljetecken. En fullständig lista över funktionens parametrar hittas [här](https://pandas.pydata.org/pandas-docs/stable/reference/api/pandas.read_csv.html). Vi har dock ingen nytta av att bara läsa in data, vi behöver också kunna spara den för att använda den i koden. Vi kan spara datan i en variabel precis som i det föregående exemplet med potensräkning:\n",
    "\n",
    "```python\n",
    "data = pd.read_csv('filnamn.csv')\n",
    "```\n",
    "När vi har sparat datan i variabeln med namnet \"data\" kan vi hantera den senare i koden genom att referera till den variabeln. Variabeln måste inte heta \"data\". Du kan hitta på ett variabelnamn själv.\n",
    "\n",
    "<div class=\"alert alert-info\">\n",
    "    \n",
    "**Funktioner**\n",
    "    \n",
    "Att använda en funktion och spara dess output som en variabel:\n",
    "```python\n",
    "x = funktionens_namn(arg)\n",
    "data = pd.read_csv('filnamn.csv')\n",
    "```\n",
    "</div>"
   ]
  },
  {
   "cell_type": "code",
   "execution_count": 11,
   "metadata": {},
   "outputs": [],
   "source": [
    "# Använd denna cell för att skriva en kod som läser in datafilen 'Medeltemperatur2020_Helsingfors.csv'\n",
    "# och spara den som variabeln \"data\". Kom ihåg att köra cellen!"
   ]
  },
  {
   "cell_type": "markdown",
   "metadata": {},
   "source": [
    "## Kontrollera data"
   ]
  },
  {
   "cell_type": "markdown",
   "metadata": {},
   "source": [
    "Nu när vi har läst in datan och sparat variabeln \"data\", kan vi undersöka den med [**head()**](https://pandas.pydata.org/pandas-docs/stable/reference/api/pandas.DataFrame.head.html)-funktionen, som skriver ut de första raderna av tabellen. **head()**-kommandot fungerar på variabler som är av typen DataFrame (tabell). Funktionen **read_csv** gör om en csv-fil till en DataFrame, så om du har definierat variabeln *data* enligt instruktionerna ovan borde du se en bit av tabellen när du kör nästa cell."
   ]
  },
  {
   "cell_type": "code",
   "execution_count": 8,
   "metadata": {},
   "outputs": [
    {
     "data": {
      "text/html": [
       "<div>\n",
       "<style scoped>\n",
       "    .dataframe tbody tr th:only-of-type {\n",
       "        vertical-align: middle;\n",
       "    }\n",
       "\n",
       "    .dataframe tbody tr th {\n",
       "        vertical-align: top;\n",
       "    }\n",
       "\n",
       "    .dataframe thead th {\n",
       "        text-align: right;\n",
       "    }\n",
       "</style>\n",
       "<table border=\"1\" class=\"dataframe\">\n",
       "  <thead>\n",
       "    <tr style=\"text-align: right;\">\n",
       "      <th></th>\n",
       "      <th>Ar</th>\n",
       "      <th>Manad</th>\n",
       "      <th>Medeltemperatur (Celsius)</th>\n",
       "    </tr>\n",
       "  </thead>\n",
       "  <tbody>\n",
       "    <tr>\n",
       "      <th>0</th>\n",
       "      <td>2020</td>\n",
       "      <td>1</td>\n",
       "      <td>1.9</td>\n",
       "    </tr>\n",
       "    <tr>\n",
       "      <th>1</th>\n",
       "      <td>2020</td>\n",
       "      <td>2</td>\n",
       "      <td>0.5</td>\n",
       "    </tr>\n",
       "    <tr>\n",
       "      <th>2</th>\n",
       "      <td>2020</td>\n",
       "      <td>3</td>\n",
       "      <td>1.7</td>\n",
       "    </tr>\n",
       "    <tr>\n",
       "      <th>3</th>\n",
       "      <td>2020</td>\n",
       "      <td>4</td>\n",
       "      <td>4.5</td>\n",
       "    </tr>\n",
       "    <tr>\n",
       "      <th>4</th>\n",
       "      <td>2020</td>\n",
       "      <td>5</td>\n",
       "      <td>9.5</td>\n",
       "    </tr>\n",
       "  </tbody>\n",
       "</table>\n",
       "</div>"
      ],
      "text/plain": [
       "     Ar  Manad  Medeltemperatur (Celsius)\n",
       "0  2020      1                        1.9\n",
       "1  2020      2                        0.5\n",
       "2  2020      3                        1.7\n",
       "3  2020      4                        4.5\n",
       "4  2020      5                        9.5"
      ]
     },
     "execution_count": 8,
     "metadata": {},
     "output_type": "execute_result"
    }
   ],
   "source": [
    "# Kör denna cell för att se de första raderna av tabellen 'data'\n",
    "\n",
    "data.head()"
   ]
  },
  {
   "cell_type": "markdown",
   "metadata": {},
   "source": [
    "Före [`head()`](https://pandas.pydata.org/pandas-docs/stable/reference/api/pandas.DataFrame.head.html)-funktionen skriver vi alltså variabeln som innehåller den tabell vi vill undersöka. Funktionen skriver vanligen ut de fem första raderna, men man kan ändra på detta genom att lägga till en parameter. **data.head(8)** skriver ut de åtta första.\n",
    "\n",
    "Ibland är det bra att undersöka vilka kollumner som finns i filen. Då kan vi använda [**columns**](https://pandas.pydata.org/pandas-docs/stable/reference/api/pandas.DataFrame.columns.html)-kommandot. Obs. **columns** är inte en funktion, utan en *egenskap* hos variabeln, och därför behöver vi inga parenteser efter kommandot. \n",
    "\n",
    "```python\n",
    "data.columns\n",
    "```\n",
    "\n",
    "<div class=\"alert alert-info\">\n",
    "    \n",
    "**Att kontrollera data**\n",
    "\n",
    "Vi sparar data i variabeln \"data\"\n",
    "\n",
    "```python\n",
    "data = pd.read_csv('tiedostonimi.csv')\n",
    "```\n",
    "    \n",
    "Skriv ut de första raderna för kontroll\n",
    "```python3    \n",
    "data.head() # 5 första raderna\n",
    "data.head(8) # 8 första raderna\n",
    "```\n",
    "    \n",
    "Skriv ut de sista raderna\n",
    "```python3    \n",
    "data.tail(3) # 3 sista raderna\n",
    "```\n",
    "    \n",
    "Kontrollera kolumnerna i datan (kolumnrubriker)\n",
    "```python3    \n",
    "data.columns\n",
    "```\n",
    "</div>"
   ]
  },
  {
   "cell_type": "code",
   "execution_count": null,
   "metadata": {},
   "outputs": [],
   "source": [
    "# Skriv ut de första raderna av tabellen 'data' och se vad den innehåller\n",
    "\n"
   ]
  },
  {
   "cell_type": "code",
   "execution_count": null,
   "metadata": {},
   "outputs": [],
   "source": [
    "# Kontrollera vilka kolumner som finns i 'data'\n",
    "\n"
   ]
  },
  {
   "cell_type": "markdown",
   "metadata": {},
   "source": [
    "## Att välja data"
   ]
  },
  {
   "cell_type": "markdown",
   "metadata": {},
   "source": [
    "I det föregående skedet såg vi att vår data innehåller kolumnerna \"Ar\", \"Manad\" och \"Medeltemperatur (Celsius)\". Oftast är vi intresserad av någon specifik kolumn i datafilen. Vi vill kanske rita en graf, där x-axeln visar mnader och y-axeln visar månadernas medeltemperaturer.\n",
    "\n",
    "I så fall kan vi spara kolumnerna som skilda variabler: \n",
    "\n",
    "\n",
    "```python\n",
    "kolumndata = data['kolumnens_namn']\n",
    "```\n",
    "\n",
    "<div class=\"alert alert-info\">\n",
    "    \n",
    "**Att välja data**\n",
    "\n",
    "Vi väljer ut en kolumn från en DataFrame (tabellvariabel)\n",
    "\n",
    "```python\n",
    "kolumndata = data['kolumnens_namn']\n",
    "```\n",
    "\n",
    "Vi sparar t.ex. kolumnen 'Medeltemperatur (Celsius)' som en variabel 'temp'.\n",
    "    \n",
    "```python\n",
    "temp = data['Medeltemperatur (Celsius)']\n",
    "```\n",
    "</div>"
   ]
  },
  {
   "cell_type": "code",
   "execution_count": null,
   "metadata": {},
   "outputs": [],
   "source": [
    "# Välj kolumnerna 'Medeltemperatur (Celsius)' och 'Manad' och spara dem som variablerna 'temp' och 'man'\n",
    "# Kom ihåg att köra cellen.\n"
   ]
  },
  {
   "cell_type": "code",
   "execution_count": null,
   "metadata": {},
   "outputs": [],
   "source": [
    "# Kontrollera 'temp'-variabeln med .head()-kommandot.\n",
    "\n"
   ]
  },
  {
   "cell_type": "markdown",
   "metadata": {},
   "source": [
    "## Visualisera data\n",
    "\n",
    "För visualisering av data med hjäp av grafer behöver vi **matplotlib**-paketet. Det här paketet innehåller många praktiska funktioner för att rita bilder, grafer och diagram. För grafer använder vi delpaketet  **matplotlib.pyplot**. Det är vanligt att vi förkortar paketet till **plt** när vi importerar det. \n",
    "\n",
    "```python\n",
    "import matplotlib.pyplot as plt\n",
    "```\n",
    "\n",
    "<div class=\"alert alert-info\">\n",
    "    \n",
    "**Matplotlib-funktioner**\n",
    "\n",
    "```python\n",
    "plt.plot(x, y) # Vi ritar y som funktion av x (x och y är listor med värden)\n",
    "plt.xlabel('namn') # x-axelns namn\n",
    "plt.ylabel('namn') # y-axelns namn\n",
    "plt.title('rubrik') # Grafens rubrik\n",
    "plt.show() # Visar grafen\n",
    "```\n",
    "</div>"
   ]
  },
  {
   "cell_type": "code",
   "execution_count": 1,
   "metadata": {},
   "outputs": [],
   "source": [
    "# läs in matplotlib.pyplot med hjälp av import-kommandot.\n",
    "# Använd förkortningen plt. Kom ihåg att köra cellen.\n",
    "\n"
   ]
  },
  {
   "cell_type": "code",
   "execution_count": 2,
   "metadata": {},
   "outputs": [],
   "source": [
    "# Använd funktionen plt.plot() och rita en graf där månaderna finns på x-axeln och temperaturerna på y-axeln.\n",
    "# Istället för x och y kan du använda variablerna 'man' och 'temp'\n"
   ]
  },
  {
   "cell_type": "markdown",
   "metadata": {},
   "source": [
    "## Exempel"
   ]
  },
  {
   "cell_type": "markdown",
   "metadata": {},
   "source": [
    "Vi ritar in tre städers (Helsingfors, Tammerfors, Uleåborg) månatliga medeltemperaturer 2020 i samma graf. Datafilerna i samma mapp som denna notebook heter:\n",
    "\n",
    "- keskilampotila2020_Helsinki.csv\n",
    "- keskilampotila2020_Tampere.csv\n",
    "- keskilampotila2020_Oulu.csv\n",
    "\n",
    "Obs. Kodcellerna nedan är klara att köras utan att du ändrar något. Du kan också fritt testa dig fram med att ändra delar av koden."
   ]
  },
  {
   "cell_type": "code",
   "execution_count": 3,
   "metadata": {},
   "outputs": [],
   "source": [
    "# Vi läser in de nödvändiga paketen\n",
    "\n",
    "import pandas as pd\n",
    "import matplotlib.pyplot as plt"
   ]
  },
  {
   "cell_type": "code",
   "execution_count": 4,
   "metadata": {},
   "outputs": [],
   "source": [
    "# Vi läser datafilerna och sparar dem som variabler.\n",
    "\n",
    "data_hel = pd.read_csv('keskilampotila2020_Helsinki.csv')\n",
    "data_tre = pd.read_csv('keskilampotila2020_Tampere.csv')\n",
    "data_oul = pd.read_csv('keskilampotila2020_Oulu.csv')"
   ]
  },
  {
   "cell_type": "code",
   "execution_count": 5,
   "metadata": {},
   "outputs": [
    {
     "data": {
      "text/html": [
       "<div>\n",
       "<style scoped>\n",
       "    .dataframe tbody tr th:only-of-type {\n",
       "        vertical-align: middle;\n",
       "    }\n",
       "\n",
       "    .dataframe tbody tr th {\n",
       "        vertical-align: top;\n",
       "    }\n",
       "\n",
       "    .dataframe thead th {\n",
       "        text-align: right;\n",
       "    }\n",
       "</style>\n",
       "<table border=\"1\" class=\"dataframe\">\n",
       "  <thead>\n",
       "    <tr style=\"text-align: right;\">\n",
       "      <th></th>\n",
       "      <th>Vuosi</th>\n",
       "      <th>Kk</th>\n",
       "      <th>Keskilämpötila (°C)</th>\n",
       "    </tr>\n",
       "  </thead>\n",
       "  <tbody>\n",
       "    <tr>\n",
       "      <th>0</th>\n",
       "      <td>2020</td>\n",
       "      <td>1</td>\n",
       "      <td>1.9</td>\n",
       "    </tr>\n",
       "    <tr>\n",
       "      <th>1</th>\n",
       "      <td>2020</td>\n",
       "      <td>2</td>\n",
       "      <td>0.5</td>\n",
       "    </tr>\n",
       "    <tr>\n",
       "      <th>2</th>\n",
       "      <td>2020</td>\n",
       "      <td>3</td>\n",
       "      <td>1.7</td>\n",
       "    </tr>\n",
       "    <tr>\n",
       "      <th>3</th>\n",
       "      <td>2020</td>\n",
       "      <td>4</td>\n",
       "      <td>4.5</td>\n",
       "    </tr>\n",
       "    <tr>\n",
       "      <th>4</th>\n",
       "      <td>2020</td>\n",
       "      <td>5</td>\n",
       "      <td>9.5</td>\n",
       "    </tr>\n",
       "  </tbody>\n",
       "</table>\n",
       "</div>"
      ],
      "text/plain": [
       "   Vuosi  Kk  Keskilämpötila (°C)\n",
       "0   2020   1                  1.9\n",
       "1   2020   2                  0.5\n",
       "2   2020   3                  1.7\n",
       "3   2020   4                  4.5\n",
       "4   2020   5                  9.5"
      ]
     },
     "execution_count": 5,
     "metadata": {},
     "output_type": "execute_result"
    }
   ],
   "source": [
    "# Vi kontrollerar datan\n",
    "\n",
    "data_hel.head()"
   ]
  },
  {
   "cell_type": "code",
   "execution_count": 6,
   "metadata": {},
   "outputs": [
    {
     "data": {
      "text/html": [
       "<div>\n",
       "<style scoped>\n",
       "    .dataframe tbody tr th:only-of-type {\n",
       "        vertical-align: middle;\n",
       "    }\n",
       "\n",
       "    .dataframe tbody tr th {\n",
       "        vertical-align: top;\n",
       "    }\n",
       "\n",
       "    .dataframe thead th {\n",
       "        text-align: right;\n",
       "    }\n",
       "</style>\n",
       "<table border=\"1\" class=\"dataframe\">\n",
       "  <thead>\n",
       "    <tr style=\"text-align: right;\">\n",
       "      <th></th>\n",
       "      <th>Vuosi</th>\n",
       "      <th>Kk</th>\n",
       "      <th>Keskilämpötila (°C)</th>\n",
       "    </tr>\n",
       "  </thead>\n",
       "  <tbody>\n",
       "    <tr>\n",
       "      <th>0</th>\n",
       "      <td>2020</td>\n",
       "      <td>1</td>\n",
       "      <td>0.9</td>\n",
       "    </tr>\n",
       "    <tr>\n",
       "      <th>1</th>\n",
       "      <td>2020</td>\n",
       "      <td>2</td>\n",
       "      <td>-0.9</td>\n",
       "    </tr>\n",
       "    <tr>\n",
       "      <th>2</th>\n",
       "      <td>2020</td>\n",
       "      <td>3</td>\n",
       "      <td>0.7</td>\n",
       "    </tr>\n",
       "    <tr>\n",
       "      <th>3</th>\n",
       "      <td>2020</td>\n",
       "      <td>4</td>\n",
       "      <td>3.4</td>\n",
       "    </tr>\n",
       "    <tr>\n",
       "      <th>4</th>\n",
       "      <td>2020</td>\n",
       "      <td>5</td>\n",
       "      <td>8.5</td>\n",
       "    </tr>\n",
       "  </tbody>\n",
       "</table>\n",
       "</div>"
      ],
      "text/plain": [
       "   Vuosi  Kk  Keskilämpötila (°C)\n",
       "0   2020   1                  0.9\n",
       "1   2020   2                 -0.9\n",
       "2   2020   3                  0.7\n",
       "3   2020   4                  3.4\n",
       "4   2020   5                  8.5"
      ]
     },
     "execution_count": 6,
     "metadata": {},
     "output_type": "execute_result"
    }
   ],
   "source": [
    "data_tre.head()"
   ]
  },
  {
   "cell_type": "code",
   "execution_count": 7,
   "metadata": {},
   "outputs": [
    {
     "data": {
      "text/html": [
       "<div>\n",
       "<style scoped>\n",
       "    .dataframe tbody tr th:only-of-type {\n",
       "        vertical-align: middle;\n",
       "    }\n",
       "\n",
       "    .dataframe tbody tr th {\n",
       "        vertical-align: top;\n",
       "    }\n",
       "\n",
       "    .dataframe thead th {\n",
       "        text-align: right;\n",
       "    }\n",
       "</style>\n",
       "<table border=\"1\" class=\"dataframe\">\n",
       "  <thead>\n",
       "    <tr style=\"text-align: right;\">\n",
       "      <th></th>\n",
       "      <th>Vuosi</th>\n",
       "      <th>Kk</th>\n",
       "      <th>Keskilämpötila (°C)</th>\n",
       "    </tr>\n",
       "  </thead>\n",
       "  <tbody>\n",
       "    <tr>\n",
       "      <th>0</th>\n",
       "      <td>2020</td>\n",
       "      <td>1</td>\n",
       "      <td>-1.9</td>\n",
       "    </tr>\n",
       "    <tr>\n",
       "      <th>1</th>\n",
       "      <td>2020</td>\n",
       "      <td>2</td>\n",
       "      <td>-3.6</td>\n",
       "    </tr>\n",
       "    <tr>\n",
       "      <th>2</th>\n",
       "      <td>2020</td>\n",
       "      <td>3</td>\n",
       "      <td>-1.6</td>\n",
       "    </tr>\n",
       "    <tr>\n",
       "      <th>3</th>\n",
       "      <td>2020</td>\n",
       "      <td>4</td>\n",
       "      <td>0.6</td>\n",
       "    </tr>\n",
       "    <tr>\n",
       "      <th>4</th>\n",
       "      <td>2020</td>\n",
       "      <td>5</td>\n",
       "      <td>7.1</td>\n",
       "    </tr>\n",
       "  </tbody>\n",
       "</table>\n",
       "</div>"
      ],
      "text/plain": [
       "   Vuosi  Kk  Keskilämpötila (°C)\n",
       "0   2020   1                 -1.9\n",
       "1   2020   2                 -3.6\n",
       "2   2020   3                 -1.6\n",
       "3   2020   4                  0.6\n",
       "4   2020   5                  7.1"
      ]
     },
     "execution_count": 7,
     "metadata": {},
     "output_type": "execute_result"
    }
   ],
   "source": [
    "data_oul.head()"
   ]
  },
  {
   "cell_type": "code",
   "execution_count": 8,
   "metadata": {},
   "outputs": [],
   "source": [
    "# Vi skiljer ut temperaturskolumnerna från datan (Medeltemperatur = Keskilämpötila)\n",
    "\n",
    "lämp_hel = data_hel['Keskilämpötila (°C)']\n",
    "lämp_tre = data_tre['Keskilämpötila (°C)']\n",
    "lämp_oul = data_oul['Keskilämpötila (°C)']"
   ]
  },
  {
   "cell_type": "code",
   "execution_count": 9,
   "metadata": {},
   "outputs": [],
   "source": [
    "# Alla tabeller har samma månadsnumrering, så vi behöver bara ta ut en sådan. (Månad = Kuukausi = Kk)\n",
    "\n",
    "kk = data_hel['Kk']"
   ]
  },
  {
   "cell_type": "code",
   "execution_count": 10,
   "metadata": {},
   "outputs": [
    {
     "data": {
      "image/png": "[encoded data removed]",
      "text/plain": [
       "<Figure size 432x288 with 1 Axes>"
      ]
     },
     "metadata": {
      "needs_background": "light"
     },
     "output_type": "display_data"
    }
   ],
   "source": [
    "# Vi ritar en graf\n",
    "\n",
    "plt.plot(kk, lämp_hel, label='Helsingfors') # Helsingfors' temperatur\n",
    "plt.plot(kk, lämp_tre, label='Tammerfors') # Tammerfors' temperatur\n",
    "plt.plot(kk, lämp_oul, label='Uleåborg') # Uleåborgs temperatur\n",
    "plt.xlabel('Månad') # x-axelns namn\n",
    "plt.ylabel('Temperatur (°C)') # y-axelns namn\n",
    "plt.title('Månadsvis medeltemperatur år 2020') # Grafens rubrik\n",
    "plt.legend() # Visar en låda med förklaringar till grafen, enligt 'label ='-parametrarna tidigare.\n",
    "plt.show() # Visar bilden"
   ]
  }
 ],
 "metadata": {
  "kernelspec": {
   "display_name": "Python 3",
   "language": "python",
   "name": "python3"
  },
  "language_info": {
   "codemirror_mode": {
    "name": "ipython",
    "version": 3
   },
   "file_extension": ".py",
   "mimetype": "text/x-python",
   "name": "python",
   "nbconvert_exporter": "python",
   "pygments_lexer": "ipython3",
   "version": "3.8.5"
  }
 },
 "nbformat": 4,
 "nbformat_minor": 4
}
