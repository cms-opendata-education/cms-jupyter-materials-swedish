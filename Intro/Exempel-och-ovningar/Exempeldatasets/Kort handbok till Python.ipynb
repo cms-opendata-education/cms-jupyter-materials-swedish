{
 "cells": [
  {
   "cell_type": "markdown",
   "metadata": {},
   "source": [
    "<a id=\"funktioner\"></a>\n",
    "## De viktigaste funktionerna för statistikbehandling "
   ]
  },
  {
   "cell_type": "markdown",
   "metadata": {},
   "source": [
    "Python är ett mycket bra och mångsidigt verktyg för att hantera statistik, men mångsidigheten för med sig en ocean av information om olika funktioner. Här har vi samlat de viktigaste funktionerna i paketen pandas, numpy och matplotlib.pyplot. \n",
    "\n",
    "Du kan skapa egna kodceller för att testa de kommandon som visas här. "
   ]
  },
  {
   "cell_type": "markdown",
   "metadata": {},
   "source": [
    "<a id=\"pandas\"></a>\n",
    "### Hantera Datasets (paket: pandas)"
   ]
  },
  {
   "cell_type": "markdown",
   "metadata": {},
   "source": [
    "**Paketet**\n",
    "\n",
    "För att kunna behandla datasets behöver vi paketet pandas. Vi förkortar paketbeteckningen till pd, och vi kan kalla på paketets funktioner med **pd.funktionens_namn()**\n",
    "````python\n",
    "import pandas as pd\n",
    "````\n",
    "\n",
    "**Hämta in datasets**\n",
    "\n",
    "Detta förutsätter att datafilen *dataset.csv* finns i samma mapp som din notebook. Funktionen **pd.read_csv()** omvandlar en csv-datafil till en *DataFrame* (tabellvariabel).  En DataFrame består av \n",
    "\n",
    "````python\n",
    "datavariabel = pd.read_csv(\"dataset.csv\")\n",
    "````\n",
    "\n",
    "**Kontrollera dataset**\n",
    "\n",
    ".head-kommandot skriver ut de första raderna i tabellen.\n",
    "````python\n",
    "datavariabel.head()\n",
    "````\n",
    "**Välj ut en cell ur tabellen**\n",
    "\n",
    "Vi vill välja ut det tabellvärde som ligger i den första raden och tredje kolumnen. Indexering i python börjar från noll, så den första raden har index 0 och den tredje kolumnen har index 2.\n",
    "````python\n",
    "datacell = datavariabel.iloc[0][2]\n",
    "````\n",
    "\n",
    "**Välj ut kolumner (lodräta) ur tabellen**\n",
    "````python\n",
    "years = datavariabel.Year  # Söker kolumnen \"Year\" ur tabellen och sparar den som variabeln years.\n",
    "\n",
    "````\n",
    "\n",
    "**Välj ut rader (vågräta) ur tabellen**\n",
    "\n",
    "exempel: Tabellen innehåller en kolumn med rubriken *Entity*, och du vill välja ut de rader som innehåller \"Finland\", eller datatabellen innehåller en kolumn *Year* och du vill välja ut de rader med årtal mellan 2000 och 2005.\n",
    "\n",
    "(Ett enkelt =-tecken innebär att vi definierar ett värde. Dubbla ==-tecken innebär att vi jämför/kontrollerar ett värde)\n",
    "````python\n",
    "dataFIN = datavariabel[datavariabel.Entity == \"Finland\"]\n",
    "datadel = datavariabel[(datavariabel.Year >= 2000) & (datavariabel.Year <= 2005)]\n",
    "    \n",
    "````"
   ]
  },
  {
   "cell_type": "markdown",
   "metadata": {},
   "source": [
    "<a id=\"matplotlib\"></a>\n",
    "### Skapa grafer (paket: matplotlib.pyplot)"
   ]
  },
  {
   "cell_type": "markdown",
   "metadata": {},
   "source": [
    "**Paketet**\n",
    "\n",
    "För att kunna rita grafer behöver vi paketet matplotlib.pyplot. Vi förkortar paketbeteckningen till plt, och vi kan kalla på paketets funktioner med **plt.funktionens_namn()**\n",
    "````python\n",
    "import matplotlib.pyplot as plt\n",
    "````\n",
    "\n",
    "\n",
    "**Definiera grafen**\n",
    "\n",
    "Inled med kommandot fig = plt.figure() för att kunna bestämma grafens storlek bl.a. <br>\n",
    "Avsluta med kommandot plt.show() för att visa grafen. Mellan dessa två kommandon kan du skriva kommandon som skapar och ändrar grafen.\n",
    "\n",
    "````python\n",
    "fig = plt.figure(figsize = (8,20))\n",
    "\n",
    "...\n",
    "\n",
    "plt.show()\n",
    "````\n",
    "\n",
    "**Skapa diagram**\n",
    "\n",
    "Dessa funktioner kan användas för att skapa diagram över värden i en lista. Vissa kräver två listor (två koordinater). Då är det viktigt att listorna innehåller lika många värden.\n",
    "````python\n",
    "plt.hist(lista)                  # histogram\n",
    "plt.bar(namnlista, vardelista)   # stapeldiagram\n",
    "plt.plot(xlista, ylista)         # graf\n",
    "plt.scatter(xlista, ylista)      # punkter\n",
    "````\n",
    "\n",
    "\n",
    "**Parametrar**\n",
    "\n",
    "I varje diagramkommando kan man lägga till parametrar för att ändra det. Man kan skriva många parametrar i rad och ordningsföljden gör oftast ingen skillnad.\n",
    "\n",
    "````python\n",
    "plt.hist(lista, bins=25)                        # \"bins=\" används för att bestämma antalet staplar (10 är default).\n",
    "plt.hist(lista, color='blue')                   # \"color=\" Ändrar histogrammets färg\n",
    "plt.plot(xlista, ylista, label=\"grafens namn\")  # \"label=\" Används för att namnge kurvan. Namnen kan visas med kommandot plt.legend()\n",
    "\n",
    "````\n",
    "\n",
    "**Tydlighet**\n",
    "\n",
    "Dessa kommandon kan användas för att modifiera grafen\n",
    "\n",
    "````python\n",
    "plt.xlabel(\"x-axelns namn\", fontsize=18)\n",
    "plt.ylabel(\"y-axelns namn\", fontsize=18)\n",
    "plt.title(\"diagrammets titel\", fontsize=20)\n",
    "plt.xlim = (1000, 2000)       # begränsar grafen i x-led\n",
    "plt.ylim = (1000, 2000)       # begränsar grafen i y-led\n",
    "plt.legend()                  # lägger till en informationsruta som visar grafernas labels.\n",
    "\n",
    "````"
   ]
  },
  {
   "cell_type": "markdown",
   "metadata": {},
   "source": [
    "<a id=\"numpy\"></a>\n",
    "### Beräkningar (paket: numpy)"
   ]
  },
  {
   "cell_type": "markdown",
   "metadata": {},
   "source": [
    "**Paketet**\n",
    "\n",
    "För att kunna göra statistiska beräkningar behöver vi paketet numpy. Vi förkortar paketbeteckningen till np, och vi kan kalla på paketets funktioner med **np.funktionens_namn()**\n",
    "````python\n",
    "import numpy as np\n",
    "````\n",
    "\n",
    "**medeltal**\n",
    "\n",
    "Vi har en lista med värden och vill beräkna medelvärdet av dessa värden.\n",
    "````python\n",
    "medeltal = np.average(lista)\n",
    "````\n",
    "\n",
    "**varians och standardavvikelse**\n",
    "\n",
    "Vi har en lista med värden och vill beräkna varians eller standardavvikelse av dessa värden.\n",
    "````python\n",
    "varians = np.var(lista)\n",
    "standardavvikelse = np.std(lista)\n",
    "````\n"
   ]
  },
  {
   "cell_type": "code",
   "execution_count": null,
   "metadata": {},
   "outputs": [],
   "source": []
  }
 ],
 "metadata": {
  "kernelspec": {
   "display_name": "Python 3",
   "language": "python",
   "name": "python3"
  },
  "language_info": {
   "codemirror_mode": {
    "name": "ipython",
    "version": 3
   },
   "file_extension": ".py",
   "mimetype": "text/x-python",
   "name": "python",
   "nbconvert_exporter": "python",
   "pygments_lexer": "ipython3",
   "version": "3.8.5"
  }
 },
 "nbformat": 4,
 "nbformat_minor": 4
}
