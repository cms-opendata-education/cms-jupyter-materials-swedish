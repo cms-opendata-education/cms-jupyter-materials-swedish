{
 "cells": [
  {
   "cell_type": "markdown",
   "metadata": {},
   "source": [
    "# Python del 2"
   ]
  },
  {
   "cell_type": "markdown",
   "metadata": {},
   "source": [
    "### Instruktioner"
   ]
  },
  {
   "cell_type": "markdown",
   "metadata": {},
   "source": [
    "1. Spara denna fil så att du vet var du har den. Se till att .csv-filen finns i samma mapp.\n",
    "2. Byt namn på filen (EfternamnFornamn2.ipynb)\n",
    "3. Utför uppgifterna\n",
    "4. Lämna in dokumentet på classroom (i formatet .ipynb)\n",
    "\n",
    "Börja med att köra den här cellen, så är funktionspaketen tillgängliga."
   ]
  },
  {
   "cell_type": "code",
   "execution_count": null,
   "metadata": {},
   "outputs": [],
   "source": [
    "import matplotlib.pyplot as plt\n",
    "import pandas as pd\n",
    "import numpy as np"
   ]
  },
  {
   "cell_type": "markdown",
   "metadata": {},
   "source": [
    "### Uppgift 1"
   ]
  },
  {
   "cell_type": "markdown",
   "metadata": {},
   "source": [
    "I textceller i Jupyter kan man använda $\\LaTeX$-text. Detta är alltså samma matematikvänliga textkodning som läksyvihko använder. Man kan t.o.m kopiera in koden hit från kodrutan i läksyvihko.\n",
    "\n",
    "Genom att skriva `$`-tecken före och efter koden kan man få ekvationer mitt bland texten, så här:  $\\frac{d}{dx}e^x = e^x$\n",
    "\n",
    "Om man skriver dubbla `$$`-tecken syns formeln på en egen rad. (öppna denna cell och se hur det ser ut)\n",
    "\n",
    "$$P\\left(\\text{\"k av n lyckas\"}\\right)\\ =\\ \\binom{n}{k}\\cdot p^k\\cdot q^{n-k}$$\n",
    "\n",
    "Uppgift: Här syns deriveringsregeln för en naturlig exponentialfunktion och formeln för binomialsannolikhet. Skapa en ny textcell nedan och skriv in någon annan av dina favoritformler. Skriv vilken formel det rör sig om."
   ]
  },
  {
   "cell_type": "markdown",
   "metadata": {},
   "source": [
    "### Uppgift 2"
   ]
  },
  {
   "cell_type": "markdown",
   "metadata": {},
   "source": [
    "I uppgift 215, s.114 i kursboken listas skolvägens längd för eleverna i en klass.\n",
    "\n",
    "Skriv värdena i en lista (man kan kopera ur digiboken), och presentera värdena i ett histogram. Histogrammet bör, som uppgiften säger, vara indelat i 5 staplar.\n",
    "\n",
    "Gör histogrammet så tydligt som möjligt."
   ]
  },
  {
   "cell_type": "code",
   "execution_count": null,
   "metadata": {},
   "outputs": [],
   "source": [
    "skolvag = [ ]\n",
    "\n",
    "\n"
   ]
  },
  {
   "cell_type": "markdown",
   "metadata": {},
   "source": [
    "### Uppgift 3"
   ]
  },
  {
   "cell_type": "markdown",
   "metadata": {},
   "source": [
    "På classroom fanns, tillsammans med detta dokument, en fil som heter *global-energy-substitution.csv*. Den innehåller information om världens energiproduktion från olika energikällor genom tiderna. Se till att den filen finns i samma mapp som denna notebook på din dator.\n",
    "\n",
    "Uppgift: Skriv en kod som läser in filen. Genom valfri metod, ta reda på vilka tre energikällor som står för den största delen av energiproduktionen idag, och vilka tre energikällor som stod för den största delen 1950."
   ]
  },
  {
   "cell_type": "code",
   "execution_count": null,
   "metadata": {
    "scrolled": true
   },
   "outputs": [],
   "source": []
  }
 ],
 "metadata": {
  "kernelspec": {
   "display_name": "Python 3",
   "language": "python",
   "name": "python3"
  },
  "language_info": {
   "codemirror_mode": {
    "name": "ipython",
    "version": 3
   },
   "file_extension": ".py",
   "mimetype": "text/x-python",
   "name": "python",
   "nbconvert_exporter": "python",
   "pygments_lexer": "ipython3",
   "version": "3.8.5"
  }
 },
 "nbformat": 4,
 "nbformat_minor": 4
}
