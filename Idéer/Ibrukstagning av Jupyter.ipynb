{
 "cells": [
  {
   "cell_type": "markdown",
   "metadata": {},
   "source": [
    "# Ibrukstagning av Jupyter"
   ]
  },
  {
   "cell_type": "markdown",
   "metadata": {},
   "source": [
    "Hej, detta är din första guide till Jupyter.\n",
    "\n",
    "Den har blivit länkad till dig, och du har öppnat den i webbprogrammet MyBinder. Följ instruktionerna så kommer du snart att kunna använda Notebooks."
   ]
  },
  {
   "cell_type": "markdown",
   "metadata": {},
   "source": [
    "#### Anaconda Navigator"
   ]
  },
  {
   "cell_type": "markdown",
   "metadata": {},
   "source": [
    "**Steg 1: ladda ned Anaconda**\n",
    "\n",
    "För att kunna hantera Jupyter Notebooks lokalt på dator rekommenderas att du använder Anaconda. I Anaconda-paketet ingår också Python 3, som vi senare kommer att använda i Notebooks. Anaconda är ett open source-program som du kan ladda ner [här](https://www.anaconda.com/products/individual).\n",
    "\n",
    "**Steg 2: spara denna fil**\n",
    "\n",
    "Uppe i menyn kan du välja **File** $\\rightarrow$ **Download as** $\\rightarrow$ **Notebook (.ipynb)**. Spara filen så att du vet var du har den.\n",
    "\n",
    "**Steg 3: öppna den nedladdade filen**\n",
    "\n",
    "Öppna Anaconda Navigator-applikationen som du har laddat ned. Du ser en lista med olika kodbehandlingsprogram - Pycharm, spyder, jupyter...  Öppna Jupyter Notebooks. Detta öppnar en flik i din browser där du ser mapparna på din egen dator. Sök upp Notebook-filen som du laddat ned och öppna den. När du har öppnat din lokala version av filen (som borde se identisk ut) kan du stänga den här fliken."
   ]
  },
  {
   "cell_type": "markdown",
   "metadata": {},
   "source": [
    "#### Bilder och andra filer"
   ]
  },
  {
   "cell_type": "markdown",
   "metadata": {},
   "source": [
    "Man kan sätta in bilder i notebooks med kommandot `<img src= ###>`, där ### ska bytas ut mot en webblänk till bilden  om den finns online eller mot bildens sökväg om den finns lokalt på din dator. Denna textcell innehåller kommandot `<img src=Jupiter.png>`, som sätter in en fil med namnet \"Jupiter.png\". Eftersom bara filens namn är givet måste filen vara.\n",
    "\n",
    "Din instruktör har kanske skickat dig en sådan bild. Spara den i samma mapp som notebooken. Om du inte har fått någon sådan kan du söka upp och spara en sådan bild själv.\n",
    "\n",
    "Syns bilden?\n",
    "\n",
    "\n",
    "<img src=bild.png>"
   ]
  },
  {
   "cell_type": "markdown",
   "metadata": {},
   "source": [
    "#### Gör ändringar"
   ]
  },
  {
   "cell_type": "markdown",
   "metadata": {},
   "source": [
    "Jupyter Notebooks är interaktiva, och du kan ändra på innehållet i en textcell om du dubbelklickar på den. Du kan \"köra\" cellen genom att trycka **Ctrl + Enter** när du är klar.\n",
    "\n",
    "Skriv en hälsning till din instruktör här, spara denna notebook med ett annat namn, och skicka den tillbaka till instruktören."
   ]
  }
 ],
 "metadata": {
  "kernelspec": {
   "display_name": "Python 3",
   "language": "python",
   "name": "python3"
  },
  "language_info": {
   "codemirror_mode": {
    "name": "ipython",
    "version": 3
   },
   "file_extension": ".py",
   "mimetype": "text/x-python",
   "name": "python",
   "nbconvert_exporter": "python",
   "pygments_lexer": "ipython3",
   "version": "3.8.5"
  }
 },
 "nbformat": 4,
 "nbformat_minor": 4
}
