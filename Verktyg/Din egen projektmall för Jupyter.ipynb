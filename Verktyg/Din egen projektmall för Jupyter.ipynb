{
 "cells": [
  {
   "cell_type": "markdown",
   "metadata": {},
   "source": [
    "# Din egen fil"
   ]
  },
  {
   "cell_type": "markdown",
   "metadata": {},
   "source": [
    "Här är en projektmall för dig, där du kan göra din egen Notebook-övning. Ändra cellerna till ditt eget innehåll. \n",
    "\n",
    "Om du vill, kan du spara ditt verk genom att välja **File** $\\rightarrow$ **Download as**$\\rightarrow$ **Notebook(.ipynb)**. Du kan öppna dina sparade notebooks med hjälp av Anaconda på din dator eller Jupyter online."
   ]
  },
  {
   "cell_type": "markdown",
   "metadata": {},
   "source": [
    "Detta är en textcell. När du har bestämt vad du vill göra kan du beskriva din övning här."
   ]
  },
  {
   "cell_type": "code",
   "execution_count": null,
   "metadata": {},
   "outputs": [],
   "source": [
    "# Detta är en kodcell. Hit kan du skriva egen kod. Dessa paket kan komma till användning.\n",
    "# Kom ihåg att också köra kodcellerna (hotkey: Ctrl + Enter)\n",
    "import pandas as pd\n",
    "import numpy as np\n",
    "import matplotlib.pyplot as plt"
   ]
  },
  {
   "cell_type": "code",
   "execution_count": null,
   "metadata": {},
   "outputs": [],
   "source": [
    "# Om du gör en datauppgift vill du hitta en csv-fil där din data är samlad.\n",
    "# Sätt in filens url istället för *** i koden nedan, så läses filen in som en tabell.\n",
    "\n",
    "data = pd.read(***)\n",
    "\n",
    "\n",
    "# data.head visar dig de första raderna av tabellen. Ser den bra ut? Har kolumnerna namn?\n",
    "data.head()"
   ]
  },
  {
   "cell_type": "code",
   "execution_count": 1,
   "metadata": {},
   "outputs": [
    {
     "ename": "SyntaxError",
     "evalue": "invalid syntax (<ipython-input-1-337c443ccb25>, line 4)",
     "output_type": "error",
     "traceback": [
      "\u001b[1;36m  File \u001b[1;32m\"<ipython-input-1-337c443ccb25>\"\u001b[1;36m, line \u001b[1;32m4\u001b[0m\n\u001b[1;33m    plt.hist(data.***)\u001b[0m\n\u001b[1;37m                  ^\u001b[0m\n\u001b[1;31mSyntaxError\u001b[0m\u001b[1;31m:\u001b[0m invalid syntax\n"
     ]
    }
   ],
   "source": [
    "# plt.hist skapar ett histogram för att åskådliggöra datan.\n",
    "# Kontrollera vilken kolumn som innehåller de värden du vill rita in. Sätt in kolumnens namn istället för *** nedan.\n",
    "\n",
    "\n",
    "plt.hist(data.***)\n",
    "\n",
    "# plt.show visar grafen du har skapat.\n",
    "plt.show()"
   ]
  },
  {
   "cell_type": "code",
   "execution_count": 2,
   "metadata": {},
   "outputs": [
    {
     "ename": "SyntaxError",
     "evalue": "invalid syntax (<ipython-input-2-03f782deb6a1>, line 3)",
     "output_type": "error",
     "traceback": [
      "\u001b[1;36m  File \u001b[1;32m\"<ipython-input-2-03f782deb6a1>\"\u001b[1;36m, line \u001b[1;32m3\u001b[0m\n\u001b[1;33m    plt.plot(data.***, data.***)\u001b[0m\n\u001b[1;37m                  ^\u001b[0m\n\u001b[1;31mSyntaxError\u001b[0m\u001b[1;31m:\u001b[0m invalid syntax\n"
     ]
    }
   ],
   "source": [
    "# Eller kanske du vill rita ut sambandet mellan två kolumner i datan?\n",
    "# Sätt in kolumnernas namn. Om du lämnar bort den ena kommer x-koordinaterna att vara ordningstal istället. Testa!\n",
    "\n",
    "plt.plot(data.***, data.***)\n",
    "\n",
    "plt.show()"
   ]
  },
  {
   "cell_type": "markdown",
   "metadata": {},
   "source": [
    "Ser din graf bra ut? Förstår du mer av datan nu?\n",
    "\n",
    "Om du märker något speciellt kan du förklara det här, så att läsaren kan följa dina tankar."
   ]
  }
 ],
 "metadata": {
  "kernelspec": {
   "display_name": "Python 3",
   "language": "python",
   "name": "python3"
  },
  "language_info": {
   "codemirror_mode": {
    "name": "ipython",
    "version": 3
   },
   "file_extension": ".py",
   "mimetype": "text/x-python",
   "name": "python",
   "nbconvert_exporter": "python",
   "pygments_lexer": "ipython3",
   "version": "3.8.5"
  }
 },
 "nbformat": 4,
 "nbformat_minor": 2
}
