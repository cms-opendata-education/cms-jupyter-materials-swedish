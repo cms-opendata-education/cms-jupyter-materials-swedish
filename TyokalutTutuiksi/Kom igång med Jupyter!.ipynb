{
 "cells": [
  {
   "cell_type": "markdown",
   "metadata": {},
   "source": [
    "# Jupyter Notebook -tutorial"
   ]
  },
  {
   "cell_type": "markdown",
   "metadata": {},
   "source": [
    "Välkommen att använda Jupyter Notebook!\n",
    "\n",
    "\n",
    "I denna tutorial hittar du den viktigaste grundinformationen om användningen av Jupyter Notebook på svenska. Om du har öppnat denna tutorial i Jupyter kan du fritt testa olika funktioner, editera innehållet och skapa egna kommentarer. Dina ändringar kommer inte att ändra originalfilen, men du kan också spara filen själv om du vill ha kvar ändringarna. Om du inte ännu har Jupyter Notebook, läs avsnittet _Installation_.\n",
    "\n",
    "Mer detaljerade, engelska instruktioner för Jupyter-projektet hittas på [projektets egna sida](http://jupyter.readthedocs.io/en/latest/index.html), och på samma sida hittas en [dokumentation](http://jupyter-notebook.readthedocs.io/en/latest/) för programmet.\n",
    "\n",
    "\n",
    "Dokumentet innehåller:<br>\n",
    "(Länkarna fungerar endast om du har öppnat dokumentet i Notebook, inte i GitHub.)\n",
    "1. [Vad är Jupyter Notebook?](#mikaon)\n",
    "2. [Installation](#asennus)\n",
    "3. [Starta programmet och skapa en Notebook](#luonotebook)\n",
    "4. [Användargränssnitt (User interface)](#interface)\n",
    "5. [Celler](#solut) <br>\n",
    "    5.1 [Skapa och ändra celler](#luosolu) <br>\n",
    "    5.2 [Köra celler](#ajasolu) <br>\n",
    "    5.3 [Textceller (Markdown)](#markdown) <br>\n",
    "    5.4 [Rubrikceller (Heading)](#otsikko) <br>\n",
    "    5.5 [Kodceller (code)](#koodi) <br>\n",
    "6. [Bilder och video i Notebook](#kuvavideo) <br>\n",
    "    6.1 [Infoga bild](#lisaakuva)<br>\n",
    "    6.2 [Ändra en bild](#muotoilekuva)<br>\n",
    "    6.3 [Infoga video](#lisaavideo)\n",
    "7. [Jupyter och $\\LaTeX$](#latex)\n",
    "8. [Spara i Notebook och använd Dashboard](#dashboard)\n",
    "9. [Användning av Notebook](#kaytto)<br>\n",
    "    9.1 [Möjliga problemsituationer och sannolika lösningar](#ongelmia)<br>\n",
    "10. [Anmärkningar](#huomioita)\n",
    "\n",
    "[Kort övning](#harjoitus)"
   ]
  },
  {
   "cell_type": "markdown",
   "metadata": {},
   "source": [
    "<a id=\"mikaon\"></a>\n",
    "## 1. Vad är Jupyter Notebook?"
   ]
  },
  {
   "cell_type": "markdown",
   "metadata": {},
   "source": [
    "Jupyter Notebook är en webbapplikation som kan användas för att skapa dokument som kombinerar programmeringskod, vanlig text, bilder, visualiseringar och ekvationer. Dessa dokument kallas __Notebooks__.\n",
    "\n",
    "Jupyter stöder över 40 olika programmeringsspråk. Vi kommer att använda Python, men bl.a. C++, C#, JavaScript och Ruby stöds också."
   ]
  },
  {
   "cell_type": "markdown",
   "metadata": {},
   "source": [
    "<a id=\"asennus\"></a>\n",
    "## 2. Installation"
   ]
  },
  {
   "cell_type": "markdown",
   "metadata": {},
   "source": [
    "Det går att installera Notebook på många sätt. Det enklaste sättet, och det som vi rekommenderar, är att installera med hjälp av Anaconda. I Anaconda-paketet får man Python, Jupyter och många funktionspaket som är viktiga för Python på samma gång. Det är lätt att installera Anaconda:\n",
    "\n",
    "- Ladda ned Anaconda från sidan https://www.continuum.io/downloads. Vi rekommenderar att du laddar ned den nyaste versionen av Python 3. I skrivande stund är den nyaste versionen 3.5.\n",
    "- Installera Anaconda med hjälp av din nedladdade installationsfil.\n",
    "- Efter installationen kan du starta Jupyter, antingen genom att öppna _Anaconda Navigator_ och välja Jupyter Notebook från menyn, eller genom att skriva in _jupyter notebook_ i kommandotolken.\n",
    "\n",
    "Andra alternativ för installation, och fullständiga (engelska) instruktioner hittas [här](http://jupyter.readthedocs.io/en/latest/install.html).\n",
    "\n",
    "Du kan också öppna en [testversion](https://try.jupyter.org/) av Jupyter, som inte kräver installation, eller gratis skapa ett konto på [CoCalc-tjänsten](https://cocalc.com/), som låter dig använda Jupyter genom en molntjänst.\n",
    "\n",
    "Det är också möjligt att använda Jupyter utan installation genom applikationen Binder (https://beta.mybinder.org/). Binder kan ta filer från GitHub, och öppna dem i en Jupyter-miljö som fungerar i webbläsaren. Det är lätt att använda Binder:\n",
    "- Gå till sidan https://beta.mybinder.org/.\n",
    "- Kopiera in Github-mappens adress i _GitHub repo or URL_-rutan. Du kan till exempel mata in den här adressen:  https://github.com/cms-opendata-education/cms-jupyter-materials-finnish\n",
    "- Skriv in \"master\" i fältet _Git branch, tag, or commit_ och tryck _launch_.\n",
    "\n",
    "Observera att ändringar du gör i Binder inte automatiskt sparas, och försvinner om programmet inte används på 20 minuter. Du kan förstås spara Notebooken på din egen dator om du väljer _File_ -> _Download as_ -> _notebook (.ipynb)_."
   ]
  },
  {
   "cell_type": "markdown",
   "metadata": {},
   "source": [
    "<a id=\"luonotebook\"></a>\n",
    "## 3. Starta programmet och skapa en ny Notebook"
   ]
  },
  {
   "cell_type": "markdown",
   "metadata": {},
   "source": [
    "Jupyter startas som sagt antingen genom *Anaconda Navigator*s meny eller med kommandot **jupyter notebook** i kommandotolken. När du startar jupyter öppnas huvudmenyn **dashboard** i din browser.\n",
    "<br>\n",
    "<img src=\"../Kuvat/dashboard.png\" align=\"center\">\n",
    "<br>\n",
    "\n",
    "I *dashboard* kan du skapa nya notebooks eller öppna och radera gamla. Mer om dashboards funktioner hittar du i avsnitt [8. Spara i Notebook och använd Dashboard](#dashboard).\n",
    "\n",
    "Du kan skapa en ny Notebook med *New*-knappen i dashboards högra övre hörn. Den öppnar en meny, och du kan välja att skapa en notebook med något av de programmeringsspråk som är tillgängliga på din dator. Vi kommer att använda Python 3 i våra exempel, och om du har installerat *Anaconda* finns Python också tillgängligt för dig.\n"
   ]
  },
  {
   "cell_type": "markdown",
   "metadata": {},
   "source": [
    "<a id=\"interface\"></a>\n",
    "## 4. Användargränssnitt (User interface)"
   ]
  },
  {
   "cell_type": "markdown",
   "metadata": {},
   "source": [
    "Jupyter har ett webbaserat användargränssnitt. Användargränssnittets viktigaste delar (utöver själva dokumentet, förstås) är filmenyn och verktygsmenyn uppe i kanten.\n",
    "\n",
    "<br>\n",
    "<img src=\"../Kuvat/menybalk.jpg\">\n",
    "<br>\n",
    "\n",
    "Jupyter kan köras i två lägen. **Edit mode** och **command mode**. I edit mode kan du ändra innehållet i celler. Du kan komma in i edit mode genom att dubbelklicka en cell eller trycka *Enter* när du har en cell markerad. Genom att trycka *Esc* eller klicka utanfär cellen återgår du till command mode. När du befinner dig i edit mode syns en penna uppe i högra hörnet:\n",
    "\n",
    "\n",
    "<img src=\"../Kuvat/editointitila.png\">\n",
    "<br>\n",
    "\n",
    "Många snabbkommandon fungerar endast i command mode. Om du t.ex. trycker på s-tangenten när du är i command mode sparas dokumentet. Om du trycker på _s_ i edit mode skrivs bokstaven s i din aktiva cell, så klart."
   ]
  },
  {
   "cell_type": "markdown",
   "metadata": {},
   "source": [
    "<a id=\"solut\"></a>\n",
    "## 5. Celler"
   ]
  },
  {
   "cell_type": "markdown",
   "metadata": {},
   "source": [
    "Allt innehåll i en notebook är indelat i **celler**. Nedan finns t.ex. en cell som är definierad som kodcell. Även denna text är skriven i en egen cell - en textcell. Cellerna kan köras, och beroende på celltyp ger de olika resultat."
   ]
  },
  {
   "cell_type": "code",
   "execution_count": 1,
   "metadata": {},
   "outputs": [],
   "source": [
    "# Detta är en kodcell, som inte alls innehåller någon kod.\n",
    "# Endast två kommetarrader som börjar med \"#\"."
   ]
  },
  {
   "cell_type": "markdown",
   "metadata": {},
   "source": [
    "I Jupyter finns fyra olika celltyper: **Code** (programmeringskod), **Markdown** (vanlig text), **Heading** (rubrik) och **Raw** (text som inte påverkas av formateringskommandon eller liknande). Viktigast av dessa är Code- och Markdown-celler.\n",
    "\n",
    "Tabellen nedan visar några kortkommandon som snabbar upp användningen av Notebook:\n",
    "\n",
    "\n",
    "\n",
    "| Kortkommando <br> (command mode) | Effekt| | Kortkommando <br> (edit mode) | Effekt |       \n",
    "|---:               |:---                       | |  ---:           | :---                            |\n",
    "| **a**/**b**                | New cell **a**bove/**b**elow | | Ctrl + Enter     | Kör cellen                        |\n",
    "| **dd**                 | **d**elete cell               | | Shift + Enter    | Kör cellen och gå till nästa |\n",
    "| m/y                | **m**arkdown/code        | | Alt + Enter      | Kör cellen och skapa en ny  |\n",
    "| pil upp/ned          | föregående/nästa cell   | | Ctrl + Shift + - | Dela upp cellen                       |\n",
    "| s                  | **s**ave                  |  |Ctrl + S         | **s**ave                     |"
   ]
  },
  {
   "cell_type": "markdown",
   "metadata": {},
   "source": [
    "Du kan se och ändra alla kortkommandon om du trycker **h** i command mode."
   ]
  },
  {
   "cell_type": "markdown",
   "metadata": {},
   "source": [
    "<a id=\"luosolu\"></a>\n",
    "### 5.1 Skapa och ändra celler"
   ]
  },
  {
   "cell_type": "markdown",
   "metadata": {},
   "source": [
    "Du kan skapa en ny cell på något av följande sätt:\n",
    "\n",
    "- Välj _Insert_ $\\rightarrow$ _Insert Cell Below_ i menybalken.\n",
    "- Tryck $+$ i verktygsbalken.\n",
    "- Tryck **a** eller **b** i command mode.\n",
    "\n",
    "Om du har öppnat detta dokument i Jupyter kan du också testa dessa alternativ."
   ]
  },
  {
   "cell_type": "markdown",
   "metadata": {},
   "source": [
    "Efter att du har skapat en cell kan du välja cellens typ. Du kan göra detta genom snabbkommandon (**m**, **y** eller **r** i command mode), eller menyn uppe i kanten:\n",
    "\n",
    "<img src=\"../Kuvat/solutyyppi.png\" align=\"left\">\n",
    "<br>\n",
    "<br>\n",
    "\n",
    "Man kan byta celltyp hos en cell som redan innehåller text utan att något går förlorat. Man kan radera en cell genom att trycka två gånger på **d** i command mode, eller genom _Edit_ $\\rightarrow$ _Delete Cells_ i menybalken."
   ]
  },
  {
   "cell_type": "markdown",
   "metadata": {},
   "source": [
    "<a id=\"ajasolu\"></a>\n",
    "### 5.2  Köra celler"
   ]
  },
  {
   "cell_type": "markdown",
   "metadata": {},
   "source": [
    "En av Jupyter Notebooks viktigaste egenskaper är att köra celler (run cells). När man kör en cell agerar den enligt de kommmandon man har skrivit in i den: Textcellens innehåll blir formaterad text, rubrikcellen blir en rubrik och kodcellen följer kommandon enligt det valda programmeringsspråket. Du har kanske redan märkt att en textcell inte automatiskt formateras när man avmarkerar den. Man måste köra cellen.\n",
    "\n",
    "Den enda celltypen som inte körs i Notebook är raw-celler. \n",
    "\n",
    "Man kan köra en cell på följande sätt:\n",
    "- Snabbkommandot _Ctrl + Enter_ (mest effektivt)\n",
    "- Välj _Cell_ $\\rightarrow$ _Run Cells_ i menybalken\n",
    "- Tryck _run cell, select below_ -knappen, som finns till vänster om kodceller.\n",
    "<br>\n",
    "<img src=\"../Kuvat/ajasolu.png\" align=\"left\">\n",
    "<br>\n",
    "<br>\n",
    "<br>\n",
    "Om du har öppnat detta dokument i Jupyter, kan du testa dessa kommandon själv. Du kan också fritt göra ändringar i cellerna och köra dem igen. Man lär sig bäst genom att testa sig fram."
   ]
  },
  {
   "cell_type": "code",
   "execution_count": 4,
   "metadata": {},
   "outputs": [
    {
     "name": "stdout",
     "output_type": "stream",
     "text": [
      "Hello World!\n"
     ]
    }
   ],
   "source": [
    "# Detta är en kodcell. Vi testar att köra en kod.\n",
    "# Efter att ha kört detta print-kommando borde texten \"Hello World!\" skrivas ut under cellen.\n",
    "# Du kan testa dig fram. Kan du skriva ut någon annan text?\n",
    "\n",
    "print(\"Hello World!\")"
   ]
  },
  {
   "cell_type": "markdown",
   "metadata": {},
   "source": [
    "Vi ska gå djupare in på hur text-, kod- och rubrikceller fungerar."
   ]
  },
  {
   "cell_type": "markdown",
   "metadata": {},
   "source": [
    "<a id=\"markdown\"></a>\n",
    "### 5.3 Textceller (Markdown)"
   ]
  },
  {
   "cell_type": "markdown",
   "metadata": {},
   "source": [
    "Jupyters textceller använder *Markdown*-formateringsspråk, vilket inkluderar HTML. Markdown möjliggör skrivande och textformatering. Med hjälp av Markdown kan man till exempel **bredda**, *kursivera* eller ~~strecka över~~ text.\n",
    "\n",
    ">Man kan dela upp texten med såna här inslag.\n",
    "\n",
    "- Man kan också\n",
    "- skapa\n",
    "- listor\n",
    "\n",
    "Du kan öppna denna cell i edit mode för att se hur dessa formateringar fungerar. I denna tutorial går vi inte igenom så mycket mer om formateringskommandon, men du hittar fler möjligheter på detta [Markdown cheat sheet](https://github.com/adam-p/markdown-here/wiki/Markdown-Cheatsheet)"
   ]
  },
  {
   "cell_type": "markdown",
   "metadata": {},
   "source": [
    "<a id=\"otsikko\"></a>\n",
    "### 5.4 Rubrikceller (heading)"
   ]
  },
  {
   "cell_type": "markdown",
   "metadata": {},
   "source": [
    "Om man är noggrann är rubrikceller inte ens en egen celltyp. De är egentligen Markdown-celler, som börjar med ett antal #-tecken.\n",
    "\n",
    "Ett #-tecken ger den största rubriken och 6 (######) tecken ger den minsta."
   ]
  },
  {
   "cell_type": "markdown",
   "metadata": {},
   "source": [
    "# Den första och största rubriken"
   ]
  },
  {
   "cell_type": "markdown",
   "metadata": {},
   "source": [
    "## Den andra rubriken"
   ]
  },
  {
   "cell_type": "markdown",
   "metadata": {},
   "source": [
    "### Den tredje rubriken"
   ]
  },
  {
   "cell_type": "markdown",
   "metadata": {},
   "source": [
    "#### Den fjärde rubriken"
   ]
  },
  {
   "cell_type": "markdown",
   "metadata": {},
   "source": [
    "##### Den femte rubriken"
   ]
  },
  {
   "cell_type": "markdown",
   "metadata": {},
   "source": [
    "###### Den sjätte rubriken"
   ]
  },
  {
   "cell_type": "markdown",
   "metadata": {},
   "source": [
    "Fastän rubrikerna går att skriva i vanliga textceller, rekommenderas man att hålla rubriker och text i olika celler."
   ]
  },
  {
   "cell_type": "markdown",
   "metadata": {},
   "source": [
    "<a id=\"koodi\"></a>\n",
    "### 5.5 Kodcell (code)"
   ]
  },
  {
   "cell_type": "markdown",
   "metadata": {},
   "source": [
    "I kodcellerna kan man skriva programmeringskod på det programmeringsspråk som passar den valda kärnan (kernel). Om vi exempelvis använder en Python 3 -kärna i vår Notebook behöver vi också skriva kod som fungerar i Python. Kod skriven för något annat språk kommer inte att fungera.\n",
    "\n",
    "Koden ger samma resultat som i vilken annan programmeringsmiljö som helst. Detta fungerar genom att Notebook står i kontakt med kärnan, som processerar koden och skickar resultatet tillbaka för att visas i Notebooken. Resultaten av koden dyker upp under kodcellen, i *output*-fältet.\n",
    "\n",
    "I kodcellen nedan definierar vi variabeln **summa** som resultatet av räkneoperationen 3 + 4, och ber cellen skriva ut variabelns värde. När vi kör koden skapas och definieras variabeln i kärnan, och resultatet \"7\" sänds tillbaka för att visas i notebooken."
   ]
  },
  {
   "cell_type": "code",
   "execution_count": 1,
   "metadata": {
    "scrolled": true
   },
   "outputs": [
    {
     "data": {
      "text/plain": [
       "7"
      ]
     },
     "execution_count": 1,
     "metadata": {},
     "output_type": "execute_result"
    }
   ],
   "source": [
    "summa = 3 + 4\n",
    "summa"
   ]
  },
  {
   "cell_type": "markdown",
   "metadata": {},
   "source": [
    "Kodens resultat är inte begränsat till text och siffror. Resultatet kan också vara en graf eller tabell. I kodcellen nedan ritar vi in en serie siffror i ett koordinatsystem med hjälp av matplotlib-paketet, och resultatet visar en graf:"
   ]
  },
  {
   "cell_type": "code",
   "execution_count": 2,
   "metadata": {
    "scrolled": true
   },
   "outputs": [
    {
     "data": {
      "image/png": "[encoded data removed]",
      "text/plain": [
       "<Figure size 432x288 with 1 Axes>"
      ]
     },
     "metadata": {
      "needs_background": "light"
     },
     "output_type": "display_data"
    }
   ],
   "source": [
    "import matplotlib.pyplot as plt\n",
    "\n",
    "%matplotlib inline\n",
    "siffror = [1,2,3,6,7,8,12,16]   # Skapar en lista med siffror\n",
    "plt.plot(siffror, 'ro')         # plot-kommandot skapar en graf. 'ro' innebär att punkterna markeras som röda bollar.\n",
    "plt.show()                      # plt.show() gör att den skapade grafen syns."
   ]
  },
  {
   "cell_type": "markdown",
   "metadata": {},
   "source": [
    "För mer information om kodning, se vårt dokument *Kom igång med Python!*"
   ]
  },
  {
   "cell_type": "markdown",
   "metadata": {},
   "source": [
    "<a id=\"kuvavideo\"></a>\n",
    "## 6. Bilder och video i Notebook"
   ]
  },
  {
   "cell_type": "markdown",
   "metadata": {},
   "source": [
    "Det finns många sätt att infoga bilder och videor i Notebook. Här går vi genom en metod - hur man infogar en video eller bild med hjälp av HTML."
   ]
  },
  {
   "cell_type": "markdown",
   "metadata": {},
   "source": [
    "<a id=\"lisaakuva\"></a>\n",
    "### 6.1 Infoga bild"
   ]
  },
  {
   "cell_type": "markdown",
   "metadata": {},
   "source": [
    "Eftersom HTML hör till Markdown, som används i Jupyters textceller, kan vi anända många HTML-element direkt i textcellerna. Vi kan exempelvis infoga bilden *testikuva.png* genom att skriva in följande HTML-element i  cellen:\n",
    "\n",
    "```<img src=\"testikuva.png\">```"
   ]
  },
  {
   "cell_type": "markdown",
   "metadata": {},
   "source": [
    "I exemplet ovan måste bilden *testikuva.png* finnas i samma mapp som denna notebook. Om bilden som Notebooken hänvisar till finns någon annanstans, måste HTML-elementet hänvisa till rätt sökväg. Instruktioner för hur man hänvisar rätt hittas [här](http://stackoverflow.com/questions/14489016/how-to-properly-reference-local-resources-in-html).\n",
    "\n",
    "Av den orsaken fungerar inte heller det ovan nämnda kommandot för att infoga bilden. Bilden *testikuva.png* finns inte i samma mapp som detta dokument, utan sökvägen är en mapp upp, och därifrån till mappen *Kuvat*.\n",
    "\n",
    "För att gå upp en mapp använder vi \"$../$\" i hänvisningen:\n",
    "\n",
    "``<img src=\"../Kuvat/testikuva.png\">``\n",
    "\n",
    "<img src=\"../Kuvat/testikuva.png\">\n",
    "<br>\n",
    "\n",
    "Om du läser det här dokumentet i Jupyter kan du också öppna cellerna i *edit mode* och se hur koden ser ut där bilderna är infogade."
   ]
  },
  {
   "cell_type": "markdown",
   "metadata": {},
   "source": [
    "<a id=\"muotoilekuva\"></a>\n",
    "### 6.3 Ändra en bild"
   ]
  },
  {
   "cell_type": "markdown",
   "metadata": {},
   "source": [
    "Man kan lägga till parametrar i HTML-elementet för att ändra bildens position eller storlek. Följande kommando flyttar bilden till den vänstra kanten:\n",
    "\n",
    "\n",
    "``<img src=\"../Kuvat/testikuva.png\" align=\"left\">``.\n",
    "\n",
    "Detta kan leda till att texten kommer bredvid bilden. Man kan skjuta ned texten ett steg med kommandot ``<br>``.\n",
    "\n",
    "Parametrarna **width** och **height** kan användas för att ändra bildens storlek\n",
    "\n",
    "``<img src=\"../Kuvat/testikuva.png\" width=\"80\" height=\"50\">``\n",
    "\n",
    "\n",
    "Ytterligare information om HTML:s bildelement hittas [här](http://www.w3schools.com/tags/tag_img.asp)."
   ]
  },
  {
   "cell_type": "markdown",
   "metadata": {},
   "source": [
    "<a id=\"lisaavideo\"></a>\n",
    "### 6.3 Infoga video"
   ]
  },
  {
   "cell_type": "markdown",
   "metadata": {},
   "source": [
    "Det går också att lägga till vidor till en notebook med hjälp av HTML-element. Sökvägen fungerar likadant som för bilder (se kapitel [6.1 Infoga bild](#lisaakuva)). Följande element söker upp videon *testivideo.mp4* och infogar den i dokumentet:\n",
    "\n",
    "\n",
    "``<video src=\"../Videot/testivideo.mp4\" type=\"video/mp4\" controls>``"
   ]
  },
  {
   "cell_type": "markdown",
   "metadata": {},
   "source": [
    "Med hjälp av parametern **type** beskriver vi videons filtyp, och kommandot **controls** sätter in de kontrollknappar som hör till. Närmare information om videoelement i HTML hittas [här](http://www.w3schools.com/tags/tag_video.asp)."
   ]
  },
  {
   "cell_type": "markdown",
   "metadata": {},
   "source": [
    "<a id=\"latex\"></a>\n",
    "## 7. Jupyter och $\\LaTeX$"
   ]
  },
  {
   "cell_type": "markdown",
   "metadata": {},
   "source": [
    "Jupyter Notebook stöder också $\\LaTeX$-kod. Med hjälp av $\\LaTeX$ kan man skriva prydliga matematiska ekvationer. I Jupyter kan man skriva $\\LaTeX$-kod genom att skilja den från annan text med \\$-tecken. Beteckningen \\$ ... \\$ lägger in $\\LaTeX$-text som en del av textstycket, medan \\$\\$ ... \\$\\$ lägger in det på en skild rad.\n",
    "\n",
    "Mitt i en textrad kan det se ut så här:  $\\sin(x) = \\frac{3}{4}$, och i ett skilt stycke så här:\n",
    "\n",
    "$$\\int_2^3{cos(x)} = \\frac{23}{45}$$\n",
    "\n",
    "Mer information om $\\LaTeX$ hittas [här](https://www.latex-project.org/)."
   ]
  },
  {
   "cell_type": "markdown",
   "metadata": {},
   "source": [
    "<a id=\"dashboard\"></a>\n",
    "## 8. Spara i Notebook och använd Dashboard"
   ]
  },
  {
   "cell_type": "markdown",
   "metadata": {},
   "source": [
    "Enklaste sättet att spara en Notebook är snabbkommandot *s*, som kan användas i command mode. Man kan även använda *File* $\\rightarrow$ *Save and Checkpoint* i menybalken, eller diskettikonen i verktygsbalken: <img src=\"../Kuvat/tallenna.png\" height= \"60\" width = \"60\">\n",
    "<br>\n",
    "<br>\n",
    "\n",
    "Notebooks sparas i .ipynb-format. Sparade Notebooks kan kontrolleras och öppnas med Jupyter genom *Dashboard.*\n",
    "\n",
    "<br>\n",
    "<img src=\"../Kuvat/dashboard.png\">\n",
    "<br>\n",
    "\n",
    "*Files*-fliken i Dashboard visar dig en mappöversikt, och *Running*-fliken visar vilka Jupyter-processer som är öppna. I denna tutorial ser vi inte på *Clusters*-fliken.\n",
    "\n",
    "I *Files*-fliken kan användaren skapa, radera, namnge och kopiera Notebooks. Om en Notebook visas med en grön ikon innebär det att den är aktiv (*Running*), och i kontakt med kärnan.\n",
    "\n",
    "Jupyter stänger inte automatiskt av Notebooks, och de hålls i kontakt med kärnan (*Kernel*) fastän man stänger fliken där Notebooken var öppen. Notebook behöver stängas manuellt, och det finns två sätt att göra det: \n",
    "\n",
    "1. Markera Notebooken som körs och välj *Shutdown*: \n",
    "\n",
    "<br>\n",
    "<img src=\"../Kuvat/shutdown.png\">\n",
    "<br>\n",
    "\n",
    "\n",
    "2. Hitta Notbooken i *Running*-fliken och välj *Shutdown*:\n",
    "<br>\n",
    "<img src=\"../Kuvat/running.png\">"
   ]
  },
  {
   "cell_type": "markdown",
   "metadata": {},
   "source": [
    "<a id=\"kaytto\"></a>\n",
    "## 9. Användning av Notebook"
   ]
  },
  {
   "cell_type": "markdown",
   "metadata": {},
   "source": [
    "Notebooks kan öppnas på två sätt: som en interaktiv eller statisk version. När man öppnar dokumentet i Jupyter öppnas det i interaktivt läge, och användaren kan ändra och köra celler. Notebooks kan även öppnas som en statisk version, där innehållet syns, men cellerna varken kan köras eller ändras. man behöver inte installera Jupyter för att öppna en Notebook i statiskt läge.\n",
    "\n",
    "Statiska versioner av Notebook kan skapas på olika sätt. I menybalken kan man välja _File_ $\\rightarrow$ _Download as_, vilket sparar Notebooken i ett statiskt HTML-format som kan öppnas med webbläsaren. Ett annat praktiskt sätt att spara statiska notebooks är med applikationen [**Nbviewer**](https://nbviewer.jupyter.org/). Med hjälp av Nbviewer kan en allmänt tillgänglig Notebook på nätet visas som en statisk HTML-version. Nbviewer behöver antingen Notebookens url-länk, eller ditt GitHub-användarnamn, om Notebooken är sparad på GitHub."
   ]
  },
  {
   "cell_type": "markdown",
   "metadata": {},
   "source": [
    "<a id=\"ongelmia\"></a>\n",
    "### 9.1 Möjliga problemsituationer och sannolika lösningar"
   ]
  },
  {
   "cell_type": "markdown",
   "metadata": {},
   "source": [
    "#### a) Det tar för länge att köra en kodcell"
   ]
  },
  {
   "cell_type": "markdown",
   "metadata": {},
   "source": [
    "Ibland kan en felaktig eller invecklad kod leda till att en cell aldrig blir klar. Man kan avbryta en kodcell genom att välja _Kernel_ $\\rightarrow$ _Interrupt_ i menybalken, eller med verktygsbalkens _interrupt kernel_ -knapp:\n",
    "\n",
    "<img src=\"../Kuvat/keskeyta.png\" height= \"60\" width = \"60\">\n",
    "<br>\n",
    "<br>\n",
    "\n",
    "Man kan se att en kodcell håller på att köras, eftersom den då visar en asterisk bredvid In-markeringen till vänster:\n",
    "\n",
    "<img src=\"../Kuvat/busy.png\" height= \"60\" width = \"120\">\n",
    "<br>\n",
    "<br>"
   ]
  },
  {
   "cell_type": "markdown",
   "metadata": {},
   "source": [
    "#### b) Kodcellen visar *error*, trots att koden är rätt. "
   ]
  },
  {
   "cell_type": "markdown",
   "metadata": {},
   "source": [
    "Om din kod tidigare hade ett fel, som nu är åtgärdat, kan programmet fortfarande ha någon felaktig kod eller variabel i minnet. Det enklaste sättet att åtgärda problemet i sådana fall är att välja\n",
    "\n",
    "- *Kernel $\\rightarrow$ Restart & Clear Output*, som rensar minnet och låter dig köra cellerna som du vill.\n",
    "- *Kernel $\\rightarrow$ Restart & Run All*, som rensar minnet och kör alla celler automatiskt.\n",
    "\n",
    "Allt d har skrivit i dokumentet hålls kvar i den här processen. Det är bara det tillfälliga minnet som rensas."
   ]
  },
  {
   "cell_type": "markdown",
   "metadata": {},
   "source": [
    "#### c) Kontakten till kerneln bryts"
   ]
  },
  {
   "cell_type": "markdown",
   "metadata": {},
   "source": [
    "Ibland händer det att Notebooken förlorar kontakt med kärnan/kerneln. Det finns en markör uppe i Notebookens högra hörn som berättar om kontakten upprätthålls eller inte. Kerneln fungerar normalt om den visar en cirkel:\n",
    "\n",
    "<img src=\"../Kuvat/toimiva.png\" height= \"60\" width = \"120\">\n",
    "<br>\n",
    "<br>\n",
    "Om kontakten bryts ser den istället ut som en brusten länk:\n",
    "\n",
    "<img src=\"../Kuvat/yhteyskatko.png\" height= \"60\" width = \"120\">\n",
    "<br>\n",
    "<br>\n",
    "\n",
    "Man kan försöka återställa kontakten genom att välja *Kernel* $\\rightarrow$ *Reconnect* i menybalken.\n",
    "\n",
    "Om man inte lyckas återupprätta kontakten på det sättet, kan man också starta om kerneln. Då kommer alla variabelvärden att rensas ur minnet, och kodcellerna kommer att behöva köras om. Man kan starta om kerneln på *Kernel* $\\rightarrow$ *Restart* i menybalken, eller med verktygsbalkens *restart the kernel (with dialog)* -knapp.\n",
    "\n",
    "<img src=\"../Kuvat/restart.png\" height= \"60\" width = \"60\">\n",
    "<br>\n",
    "<br>"
   ]
  },
  {
   "cell_type": "markdown",
   "metadata": {},
   "source": [
    "#### d) Cellen kör inte koden."
   ]
  },
  {
   "cell_type": "markdown",
   "metadata": {},
   "source": [
    "De mest sannolika orsakerna till att koden inte körs är en felaktig kod eller felaktig celltyp. Om man skriver kod i en texcell gör den förstås ingenting, inte ens om man skriver texten i ett format som liknar python:\n",
    "\n",
    "```python\n",
    "# Denna text ser ut som python-kod, men gör inget i den här cellen.\n",
    "print(\"Hello World?\")\n",
    "```\n",
    "\n",
    "En annan möjlig orsak är att man använder fel kernel. Kerneln avgör vilket programmeringsspråk som används för att tolka kodcellerna."
   ]
  },
  {
   "cell_type": "markdown",
   "metadata": {},
   "source": [
    "<a id=\"huomioita\"></a>\n",
    "## 10. Anmärkningar"
   ]
  },
  {
   "cell_type": "markdown",
   "metadata": {},
   "source": [
    "I denna tutorial hittas instruktioner för ibrukstagning av Jupyter och programmets mest grundläggande kommandon. Utöver detta ger Jupyter oändliga möjligheter för räkning, dataanalys, undervisning eller programmering. Ett bra sätt att lära sig använda Jupyter och börja programmera är att testa sig fram och utmana sig själv. *Vad gör egentligen denna kodsträng? Hur kan jag skriva en notebook, som räknar medeltalet av en lista vitsord? Skulle man kunna rita ett histogram över vitsorden?*\n",
    "\n",
    "På [denna sida](https://github.com/ipython/ipython/wiki/A-gallery-of-interesting-IPython-Notebooks) hittas många intressanta exempel på Notebooks. Exemplen visar hurudana typer av material man kan skapa med hjälp av Jupyter.\n",
    "\n",
    "Vi önskar dig en trevlig Jupyter-resa!"
   ]
  },
  {
   "cell_type": "markdown",
   "metadata": {},
   "source": [
    "<a id=\"harjoitus\"></a>\n",
    "## Kort övning"
   ]
  },
  {
   "cell_type": "markdown",
   "metadata": {},
   "source": [
    "För att öva och se att du kan använda det du har lärt dig i detta dokument, följ instruktionerna nedan. Om du har öppnat denna Notebook i Jupyter kan du göra allt här i samma dokument."
   ]
  },
  {
   "cell_type": "markdown",
   "metadata": {},
   "source": [
    "### 1) Skapa en textcell"
   ]
  },
  {
   "cell_type": "markdown",
   "metadata": {},
   "source": [
    "- Skapa en ny cell genom att trycka snabbkommandot *b* (below) eller *a* (above) eller _Insert_ -> _Insert Cell Below_.\n",
    "- Gör cellen till en textcell (Markdown), med snabbkommandot *m*.\n",
    "- Skriv vanlig text och en matematisk ekvation med hjälp av $\\LaTeX$-kod.\n",
    "- Kör cellen. Snabbkommando: *Ctrl + Enter*.\n",
    "\n",
    "(Tips: Kapitel [5](#solut) och [7](#latex))"
   ]
  },
  {
   "cell_type": "markdown",
   "metadata": {},
   "source": [
    "### 2) Infoga bild"
   ]
  },
  {
   "cell_type": "markdown",
   "metadata": {},
   "source": [
    "- Infoga en valfri bild i din textcell. Du behöver hänvisa till bilden antingen genom en länk (om bilden finns online) eller genom bildens sökväg (om bilden hittas lokalt).\n",
    "- Du kan exempelvis använda länken till denna jupyter-logo från Wikimedia Commons: https://upload.wikimedia.org/wikipedia/commons/3/38/Jupyter_logo.svg\n",
    "\n",
    "<img src = \"https://upload.wikimedia.org/wikipedia/commons/3/38/Jupyter_logo.svg\" height = \"120\" width = \"120\">\n",
    "\n",
    "(Tips: Kapitel [6](#kuvavideo))"
   ]
  },
  {
   "cell_type": "markdown",
   "metadata": {},
   "source": [
    "### 3) Skapa en kodcell"
   ]
  },
  {
   "cell_type": "markdown",
   "metadata": {},
   "source": [
    "- Skapa en ny cell, och gör den till en kodcell (Code).\n",
    "- Skriv en kod som beräknar medelvärdet av talen 3, 5, 6, 7 och 9.\n",
    "- Skriv koden så att den skriver ut meddelandet \"Vi beräknar medelvärdet: [värde]\"\n",
    "\n",
    "(Tips: Kapitel [5](#solut))"
   ]
  },
  {
   "cell_type": "markdown",
   "metadata": {},
   "source": [
    "### 4) Skapa rubrik och spara."
   ]
  },
  {
   "cell_type": "markdown",
   "metadata": {},
   "source": [
    "- Gör passande rubriker till dina celler. Använd skilda celler för rubrikerna.\n",
    "- Spara din Notebook.\n",
    "\n",
    "(Tips: Kapitel [5](#solut) och [8](#dashboard))"
   ]
  }
 ],
 "metadata": {
  "kernelspec": {
   "display_name": "Python 3",
   "language": "python",
   "name": "python3"
  },
  "language_info": {
   "codemirror_mode": {
    "name": "ipython",
    "version": 3
   },
   "file_extension": ".py",
   "mimetype": "text/x-python",
   "name": "python",
   "nbconvert_exporter": "python",
   "pygments_lexer": "ipython3",
   "version": "3.8.5"
  }
 },
 "nbformat": 4,
 "nbformat_minor": 1
}
