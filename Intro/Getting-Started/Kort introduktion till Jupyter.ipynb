{
 "cells": [
  {
   "cell_type": "markdown",
   "metadata": {},
   "source": [
    "# Ibrukstagning av Jupyter"
   ]
  },
  {
   "cell_type": "markdown",
   "metadata": {},
   "source": [
    "Hej, detta är din första guide till Jupyter.\n",
    "\n",
    "Detta dokument är en **Jupyter Notebook** (file extension: .ipynb). Om detta är din första notebook har du troligen öppnat den i MyBinder eller Google Colab. Vi ska börja med att se på programalternativen."
   ]
  },
  {
   "cell_type": "markdown",
   "metadata": {},
   "source": [
    "## Anaconda, MyBinder eller Google Colab"
   ]
  },
  {
   "cell_type": "markdown",
   "metadata": {},
   "source": [
    "Detta dokument är en Jupyter Notebook, och sådana går att använda online i applikationen MyBinder, som inte kräver någon installation. Detta är en praktisk egenskap när man vill visa sina Notebook-arbeten, men om man vill göra egna projekt i Notebook rekommenderar vi att installera Anaconda. Google Colab fungerar som ett mellanting. Förutsatt att du har ett google-konto ger Colab goda möjligheter till fildelning, och alla dina projekt kan sparas på din Drive."
   ]
  },
  {
   "cell_type": "markdown",
   "metadata": {},
   "source": [
    "### Anaconda Navigator"
   ]
  },
  {
   "cell_type": "markdown",
   "metadata": {},
   "source": [
    "**Steg 1: ladda ned och installera Anaconda**\n",
    "\n",
    "För att kunna hantera Jupyter Notebooks lokalt på dator rekommenderas att du använder Anaconda. I Anaconda-paketet ingår också Python 3, som vi senare kommer att använda i Notebooks. Anaconda är ett open source-program som du kan ladda ner [här](https://www.anaconda.com/products/individual). När du har laddat ned installationsfilen kan du köra den. Anaconda kräver lite mer än 1 Gb utrymme, och installationen kan ta en stund. Du kan utföra steg 2 medan du väntar.\n",
    "\n",
    "**Steg 2: spara denna fil**\n",
    "\n",
    "Uppe i menyn i denna Notebook kan du välja **File** $\\rightarrow$ **Download as** $\\rightarrow$ **Notebook (.ipynb)**. Spara filen så att du vet var du har den.\n",
    "\n",
    "**Steg 3: öppna filen lokalt**\n",
    "\n",
    "Har du slutfört Anaconda-installationen? Öppna **Anaconda Navigator**-applikationen som du har laddat ned. Du ser en lista med olika kodbehandlingsprogram - Pycharm, spyder, jupyter...  Öppna Jupyter Notebooks. Detta öppnar en flik i din browser där du ser mapparna på din egen dator. Sök upp Notebook-filen som du laddat ned och öppna den. När du har öppnat din lokala version av filen (som borde se identisk ut) kan du stänga fliken som är öppen i MyBinder."
   ]
  },
  {
   "cell_type": "markdown",
   "metadata": {},
   "source": [
    "### MyBinder"
   ]
  },
  {
   "cell_type": "markdown",
   "metadata": {},
   "source": [
    "MyBinder har starka för-och nackdelar. Den största fördelen är att MyBinder låter dig dela din notebook-fil som en länk, och vem som helst kan öppna den utan någon installation eller registrering.\n",
    "\n",
    "Nackdelarna är tyvärr ganska många:\n",
    "- Dokumentet kan ta ett par minuter att öppna.\n",
    "- Notebook-filen behöver finnas på GitHub (Problematiskt om man inte har använt git. Man kan alltså inte öppna lokalt sparade notebooks i MyBinder)\n",
    "- MyBinder bryter kontakten efter 10 minuter av inaktivitet. Man kan dock återuppta sessionen.\n",
    "\n",
    "Dessa nackdelar gör att MyBinder lämpar sig bra för att förevisa Notebook-projekt, men är ett osmidigt verktyg för att skapa egna."
   ]
  },
  {
   "cell_type": "markdown",
   "metadata": {},
   "source": [
    "### Google Colab"
   ]
  },
  {
   "cell_type": "markdown",
   "metadata": {},
   "source": [
    "När man använder Google Colab för att öppna Notebooks fungerar fildelning smidigt via Google Drive. "
   ]
  },
  {
   "cell_type": "markdown",
   "metadata": {},
   "source": [
    "### Markdown i Notebook"
   ]
  },
  {
   "cell_type": "markdown",
   "metadata": {},
   "source": [
    "Jupyter Notebooks är interaktiva, och du kan ändra på innehållet i en textcell om du dubbelklickar på den. Du kan \"köra\" cellen genom att trycka **Ctrl + Enter** när du är klar med att ändra den.\n",
    "\n",
    "Jupyter Notebooks använder *Markdown* - en HTML-tolk - för att processera text. Här följer några exempel på vad man kan göra. Du kan öppna (dubbelklicka) den här cellen för att se hur det fungerar.\n",
    "\n",
    "Man kan skriva **fet** eller *kursiv* stil. Man kan inkludera inbäddade [länkar](https://github.com/adam-p/markdown-here/wiki/Markdown-Cheatsheet).\n",
    "\n",
    "- Man kan\n",
    "- skapa listor\n",
    "\n",
    "> eller sära ut textstycken för att betona dem\n",
    "\n",
    "```python\n",
    "# man kan skriva stycken som föreställer programmeringskod, men inte egentligen gör nåt\n",
    "print(\"Hello World!\")\n",
    "```\n",
    "\n",
    "| Detta | är  |en   | tabell |\n",
    "|---    |---  |---  |---     |\n",
    "|detta  |är   |dess |innehåll|\n",
    "\n",
    "\n",
    "Om du vill veta mer om Markdown hittas många [resurser](https://github.com/adam-p/markdown-here/wiki/Markdown-Cheatsheet) på webben, men de här funktionerna borde räcka till det mesta."
   ]
  },
  {
   "cell_type": "markdown",
   "metadata": {},
   "source": [
    "#### Bilder och andra filer"
   ]
  },
  {
   "cell_type": "markdown",
   "metadata": {},
   "source": [
    "Man kan sätta in bilder i notebooks med kommandot `<img src= ###>`, där ### ska bytas ut mot en webblänk till bilden  om den finns online eller mot bildens sökväg om den finns lokalt på din dator. \n",
    "> Denna textcell innehåller kommandot `<img src=Jupiter.png>`, som sätter in en fil med namnet \"Jupiter.png\". Eftersom bara filens namn är givet måste filen finnas i samma mapp som denna notebook. Om sökvägen till bilden är längre kan man skriva ../ för att gå en mapp bakåt. Ex: `<img src=../Bilder/Jupiter.png>` går en mapp bakåt, och därefter in i mappen Bilder för att hitta bilden jupiter.png. Sökvägen utgår alltid från notebookens plats på din dator.\n",
    "\n",
    "Din instruktör har kanske skickat dig en bild som heter Jupiter.png. Spara den i samma mapp som notebooken. Om så inte är fallet kan du söka upp och spara en sådan bild själv.\n",
    "\n",
    "Syns bilden?\n",
    "\n",
    "\n",
    "<img src=Jupiter.png>"
   ]
  },
  {
   "cell_type": "markdown",
   "metadata": {},
   "source": [
    "#### Uppgift: Gör ändringar"
   ]
  },
  {
   "cell_type": "markdown",
   "metadata": {},
   "source": [
    "Skriv en hälsning till din instruktör här. Använd några av funktionerna i den föregående cellen.\n",
    "\n",
    "Spara denna notebook med ett annat namn (t.ex. fornamn_efternamn_notebook), och skicka den tillbaka till instruktören."
   ]
  },
  {
   "cell_type": "markdown",
   "metadata": {},
   "source": [
    "### Python-kod i Notebook"
   ]
  },
  {
   "cell_type": "markdown",
   "metadata": {},
   "source": [
    "En annan viktig funktion hos Jupyter Notebooks är att man kan varva texten med kodceller. En kodcell märks med texten `In [ ]` till vänster. När man kör cellen ändras dess index, t.ex. `In [1]`. Testa kör de båda cellerna nedan (**Ctrl + Enter**). Du kan ändra på dem om du vill, men vi ser mer på kodning i ett annat dokument.\n",
    "\n",
    "Viktig information om kodceller i Jupyter:\n",
    "- Programmeringsspråket vi använder är Python 3. Detta borde stå under logout-knappen i notebookens högra övre hörn.\n",
    "- Du kan ändra en cells typ från text(Markdown) till kod genom att trycka **y** när den är markerad.\n",
    "- Du kan ändra en cells typ från kod till text genom att trycka **m** när den är markerad."
   ]
  },
  {
   "cell_type": "code",
   "execution_count": 2,
   "metadata": {},
   "outputs": [
    {
     "name": "stdout",
     "output_type": "stream",
     "text": [
      "Hello World!\n"
     ]
    }
   ],
   "source": [
    "print(\"Hello World!\") # Text som föregås av ett #-tecken påverkar inte koden"
   ]
  },
  {
   "cell_type": "code",
   "execution_count": 1,
   "metadata": {},
   "outputs": [
    {
     "name": "stdout",
     "output_type": "stream",
     "text": [
      "2 plus 3 blir 5\n"
     ]
    }
   ],
   "source": [
    "a = 2\n",
    "b = 3\n",
    "\n",
    "print(a,\"plus\",b,\"blir\", a+b)"
   ]
  }
 ],
 "metadata": {
  "kernelspec": {
   "display_name": "Python 3",
   "language": "python",
   "name": "python3"
  },
  "language_info": {
   "codemirror_mode": {
    "name": "ipython",
    "version": 3
   },
   "file_extension": ".py",
   "mimetype": "text/x-python",
   "name": "python",
   "nbconvert_exporter": "python",
   "pygments_lexer": "ipython3",
   "version": "3.8.5"
  }
 },
 "nbformat": 4,
 "nbformat_minor": 4
}
